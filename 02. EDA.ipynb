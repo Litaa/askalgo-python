{
 "cells": [
  {
   "cell_type": "markdown",
   "metadata": {
    "ExecuteTime": {
     "end_time": "2020-10-07T08:38:39.103558Z",
     "start_time": "2020-10-07T08:38:38.327117Z"
    }
   },
   "source": [
    "# Exploratory Data Analysis"
   ]
  },
  {
   "cell_type": "code",
   "execution_count": 1,
   "metadata": {},
   "outputs": [],
   "source": [
    "import pandas as pd"
   ]
  },
  {
   "cell_type": "markdown",
   "metadata": {},
   "source": [
    "## Datetime Data Type"
   ]
  },
  {
   "cell_type": "markdown",
   "metadata": {},
   "source": [
    "### Apakah perbedaan antara `pd.to_datetime()` dengan `astype('datetime64')`?\n",
    "\n",
    "Method `pd.to_datetime()` lebih fleksibel jika dibandingkan dengan `astype('datetime64')`.\n",
    "Hal ini dikarenakan penggunaan method `pd.to_datetime()` memungkinkan kita untuk melakukan transformasi bentuk datetime dengan menambahkan parameter-parameter. Contohnya terdapat parameter `format` untuk melakukan formatting urutan tanggal."
   ]
  },
  {
   "cell_type": "code",
   "execution_count": 2,
   "metadata": {},
   "outputs": [
    {
     "data": {
      "text/plain": [
       "Timestamp('2020-11-30 00:00:00')"
      ]
     },
     "execution_count": 2,
     "metadata": {},
     "output_type": "execute_result"
    }
   ],
   "source": [
    "pd.to_datetime('30-11-2020', format='%d-%m-%Y') # tanggal, bulan, tahun"
   ]
  },
  {
   "cell_type": "markdown",
   "metadata": {},
   "source": [
    "### Bagaimana cara menghitung selisih atau jeda tanggal?\n",
    "\n",
    "Selisih tanggal dapat dihitung menggunakan *method* `timedelta()` pada *library* `datetime`.\n",
    "Berikut dibawah ini adalah ilustrasi penggunaannya:"
   ]
  },
  {
   "cell_type": "code",
   "execution_count": 3,
   "metadata": {
    "ExecuteTime": {
     "end_time": "2020-10-08T06:24:27.958713Z",
     "start_time": "2020-10-08T06:24:22.976005Z"
    }
   },
   "outputs": [
    {
     "data": {
      "text/html": [
       "<div>\n",
       "<style scoped>\n",
       "    .dataframe tbody tr th:only-of-type {\n",
       "        vertical-align: middle;\n",
       "    }\n",
       "\n",
       "    .dataframe tbody tr th {\n",
       "        vertical-align: top;\n",
       "    }\n",
       "\n",
       "    .dataframe thead th {\n",
       "        text-align: right;\n",
       "    }\n",
       "</style>\n",
       "<table border=\"1\" class=\"dataframe\">\n",
       "  <thead>\n",
       "    <tr style=\"text-align: right;\">\n",
       "      <th></th>\n",
       "      <th>receipt_id</th>\n",
       "      <th>receipts_item_id</th>\n",
       "      <th>purchase_time</th>\n",
       "      <th>category</th>\n",
       "      <th>sub_category</th>\n",
       "      <th>format</th>\n",
       "      <th>unit_price</th>\n",
       "      <th>discount</th>\n",
       "      <th>quantity</th>\n",
       "      <th>yearmonth</th>\n",
       "      <th>weekday</th>\n",
       "    </tr>\n",
       "  </thead>\n",
       "  <tbody>\n",
       "    <tr>\n",
       "      <th>0</th>\n",
       "      <td>9622257</td>\n",
       "      <td>32369294</td>\n",
       "      <td>2018-07-22 21:19:00</td>\n",
       "      <td>Rice</td>\n",
       "      <td>Rice</td>\n",
       "      <td>supermarket</td>\n",
       "      <td>128000.0</td>\n",
       "      <td>0</td>\n",
       "      <td>1</td>\n",
       "      <td>2018-07</td>\n",
       "      <td>Sunday</td>\n",
       "    </tr>\n",
       "    <tr>\n",
       "      <th>1</th>\n",
       "      <td>9446359</td>\n",
       "      <td>31885876</td>\n",
       "      <td>2018-07-15 16:17:00</td>\n",
       "      <td>Rice</td>\n",
       "      <td>Rice</td>\n",
       "      <td>minimarket</td>\n",
       "      <td>102750.0</td>\n",
       "      <td>0</td>\n",
       "      <td>1</td>\n",
       "      <td>2018-07</td>\n",
       "      <td>Sunday</td>\n",
       "    </tr>\n",
       "  </tbody>\n",
       "</table>\n",
       "</div>"
      ],
      "text/plain": [
       "   receipt_id  receipts_item_id       purchase_time category sub_category  \\\n",
       "0     9622257          32369294 2018-07-22 21:19:00     Rice         Rice   \n",
       "1     9446359          31885876 2018-07-15 16:17:00     Rice         Rice   \n",
       "\n",
       "        format  unit_price  discount  quantity yearmonth weekday  \n",
       "0  supermarket    128000.0         0         1   2018-07  Sunday  \n",
       "1   minimarket    102750.0         0         1   2018-07  Sunday  "
      ]
     },
     "execution_count": 3,
     "metadata": {},
     "output_type": "execute_result"
    }
   ],
   "source": [
    "household = pd.read_csv('data_input/household.csv')\n",
    "household['purchase_time'] = pd.to_datetime(household['purchase_time'])\n",
    "household['weekday'] = household['purchase_time'].dt.day_name()\n",
    "household.head(2)"
   ]
  },
  {
   "cell_type": "markdown",
   "metadata": {},
   "source": [
    "Tabel di atas adalah sebuah DataFrame `household` yang memuat informasi transaksi kebutuhan rumah tangga. Kolom `purchase_time` berisi informasi tanggal pembelian barang. Jika diketahui durasi pengiriman sebuah barang adalah 2 hari setelah barang dibeli, maka kita dapat menghitung estimasi barang sampai ke tangan pembeli dengan menggunakan *code* berikut:"
   ]
  },
  {
   "cell_type": "code",
   "execution_count": 4,
   "metadata": {
    "ExecuteTime": {
     "end_time": "2020-10-08T06:24:28.004058Z",
     "start_time": "2020-10-08T06:24:27.990084Z"
    },
    "scrolled": true
   },
   "outputs": [
    {
     "data": {
      "text/html": [
       "<div>\n",
       "<style scoped>\n",
       "    .dataframe tbody tr th:only-of-type {\n",
       "        vertical-align: middle;\n",
       "    }\n",
       "\n",
       "    .dataframe tbody tr th {\n",
       "        vertical-align: top;\n",
       "    }\n",
       "\n",
       "    .dataframe thead th {\n",
       "        text-align: right;\n",
       "    }\n",
       "</style>\n",
       "<table border=\"1\" class=\"dataframe\">\n",
       "  <thead>\n",
       "    <tr style=\"text-align: right;\">\n",
       "      <th></th>\n",
       "      <th>receipt_id</th>\n",
       "      <th>receipts_item_id</th>\n",
       "      <th>purchase_time</th>\n",
       "      <th>category</th>\n",
       "      <th>sub_category</th>\n",
       "      <th>format</th>\n",
       "      <th>unit_price</th>\n",
       "      <th>discount</th>\n",
       "      <th>quantity</th>\n",
       "      <th>yearmonth</th>\n",
       "      <th>weekday</th>\n",
       "      <th>shipdate_est</th>\n",
       "    </tr>\n",
       "  </thead>\n",
       "  <tbody>\n",
       "    <tr>\n",
       "      <th>0</th>\n",
       "      <td>9622257</td>\n",
       "      <td>32369294</td>\n",
       "      <td>2018-07-22 21:19:00</td>\n",
       "      <td>Rice</td>\n",
       "      <td>Rice</td>\n",
       "      <td>supermarket</td>\n",
       "      <td>128000.0</td>\n",
       "      <td>0</td>\n",
       "      <td>1</td>\n",
       "      <td>2018-07</td>\n",
       "      <td>Sunday</td>\n",
       "      <td>2018-07-24 21:19:00</td>\n",
       "    </tr>\n",
       "    <tr>\n",
       "      <th>1</th>\n",
       "      <td>9446359</td>\n",
       "      <td>31885876</td>\n",
       "      <td>2018-07-15 16:17:00</td>\n",
       "      <td>Rice</td>\n",
       "      <td>Rice</td>\n",
       "      <td>minimarket</td>\n",
       "      <td>102750.0</td>\n",
       "      <td>0</td>\n",
       "      <td>1</td>\n",
       "      <td>2018-07</td>\n",
       "      <td>Sunday</td>\n",
       "      <td>2018-07-17 16:17:00</td>\n",
       "    </tr>\n",
       "  </tbody>\n",
       "</table>\n",
       "</div>"
      ],
      "text/plain": [
       "   receipt_id  receipts_item_id       purchase_time category sub_category  \\\n",
       "0     9622257          32369294 2018-07-22 21:19:00     Rice         Rice   \n",
       "1     9446359          31885876 2018-07-15 16:17:00     Rice         Rice   \n",
       "\n",
       "        format  unit_price  discount  quantity yearmonth weekday  \\\n",
       "0  supermarket    128000.0         0         1   2018-07  Sunday   \n",
       "1   minimarket    102750.0         0         1   2018-07  Sunday   \n",
       "\n",
       "         shipdate_est  \n",
       "0 2018-07-24 21:19:00  \n",
       "1 2018-07-17 16:17:00  "
      ]
     },
     "execution_count": 4,
     "metadata": {},
     "output_type": "execute_result"
    }
   ],
   "source": [
    "from datetime import timedelta\n",
    "household['shipdate_est'] = household['purchase_time'] + timedelta(days=2)\n",
    "household.head(2)"
   ]
  },
  {
   "cell_type": "markdown",
   "metadata": {},
   "source": [
    "Apabila ingin lebih spesifik, kita dapat menambahkan parameter waktu lain pada `timedelta()`, mulai dari `weeks` hingga `microseconds` dengan contoh sebagai berikut:"
   ]
  },
  {
   "cell_type": "code",
   "execution_count": 5,
   "metadata": {
    "ExecuteTime": {
     "end_time": "2020-10-08T07:49:05.111961Z",
     "start_time": "2020-10-08T07:49:05.084627Z"
    }
   },
   "outputs": [
    {
     "data": {
      "text/html": [
       "<div>\n",
       "<style scoped>\n",
       "    .dataframe tbody tr th:only-of-type {\n",
       "        vertical-align: middle;\n",
       "    }\n",
       "\n",
       "    .dataframe tbody tr th {\n",
       "        vertical-align: top;\n",
       "    }\n",
       "\n",
       "    .dataframe thead th {\n",
       "        text-align: right;\n",
       "    }\n",
       "</style>\n",
       "<table border=\"1\" class=\"dataframe\">\n",
       "  <thead>\n",
       "    <tr style=\"text-align: right;\">\n",
       "      <th></th>\n",
       "      <th>receipt_id</th>\n",
       "      <th>receipts_item_id</th>\n",
       "      <th>purchase_time</th>\n",
       "      <th>category</th>\n",
       "      <th>sub_category</th>\n",
       "      <th>format</th>\n",
       "      <th>unit_price</th>\n",
       "      <th>discount</th>\n",
       "      <th>quantity</th>\n",
       "      <th>yearmonth</th>\n",
       "      <th>weekday</th>\n",
       "      <th>shipdate_est</th>\n",
       "      <th>shipdate_est_new</th>\n",
       "    </tr>\n",
       "  </thead>\n",
       "  <tbody>\n",
       "    <tr>\n",
       "      <th>0</th>\n",
       "      <td>9622257</td>\n",
       "      <td>32369294</td>\n",
       "      <td>2018-07-22 21:19:00</td>\n",
       "      <td>Rice</td>\n",
       "      <td>Rice</td>\n",
       "      <td>supermarket</td>\n",
       "      <td>128000.0</td>\n",
       "      <td>0</td>\n",
       "      <td>1</td>\n",
       "      <td>2018-07</td>\n",
       "      <td>Sunday</td>\n",
       "      <td>2018-07-24 21:19:00</td>\n",
       "      <td>2018-07-23 23:22:04.005006</td>\n",
       "    </tr>\n",
       "    <tr>\n",
       "      <th>1</th>\n",
       "      <td>9446359</td>\n",
       "      <td>31885876</td>\n",
       "      <td>2018-07-15 16:17:00</td>\n",
       "      <td>Rice</td>\n",
       "      <td>Rice</td>\n",
       "      <td>minimarket</td>\n",
       "      <td>102750.0</td>\n",
       "      <td>0</td>\n",
       "      <td>1</td>\n",
       "      <td>2018-07</td>\n",
       "      <td>Sunday</td>\n",
       "      <td>2018-07-17 16:17:00</td>\n",
       "      <td>2018-07-16 18:20:04.005006</td>\n",
       "    </tr>\n",
       "  </tbody>\n",
       "</table>\n",
       "</div>"
      ],
      "text/plain": [
       "   receipt_id  receipts_item_id       purchase_time category sub_category  \\\n",
       "0     9622257          32369294 2018-07-22 21:19:00     Rice         Rice   \n",
       "1     9446359          31885876 2018-07-15 16:17:00     Rice         Rice   \n",
       "\n",
       "        format  unit_price  discount  quantity yearmonth weekday  \\\n",
       "0  supermarket    128000.0         0         1   2018-07  Sunday   \n",
       "1   minimarket    102750.0         0         1   2018-07  Sunday   \n",
       "\n",
       "         shipdate_est           shipdate_est_new  \n",
       "0 2018-07-24 21:19:00 2018-07-23 23:22:04.005006  \n",
       "1 2018-07-17 16:17:00 2018-07-16 18:20:04.005006  "
      ]
     },
     "execution_count": 5,
     "metadata": {},
     "output_type": "execute_result"
    }
   ],
   "source": [
    "household['shipdate_est_new'] = household['purchase_time'] + timedelta(weeks=0,\n",
    "                                                                       days=1,\n",
    "                                                                       hours=2,\n",
    "                                                                       minutes=3,\n",
    "                                                                       seconds=4,\n",
    "                                                                       milliseconds=5,\n",
    "                                                                       microseconds=6)\n",
    "household.head(2)"
   ]
  },
  {
   "cell_type": "markdown",
   "metadata": {},
   "source": [
    "### Ketika menggunakan perintah `dt.to_period('W')`, maka secara otomatis rentang *week* yang ditampilkan selalu dimulai dari hari Senin. Apakah ada cara untuk menampilkan rentang *week* yang dimulai dari hari Minggu\n",
    "\n",
    "Apabila ingin menampilkan rentang *week* yang dimulai dari hari Minggu, maka dapat dituliskan syntax sebagai berikut :"
   ]
  },
  {
   "cell_type": "code",
   "execution_count": 6,
   "metadata": {
    "ExecuteTime": {
     "end_time": "2020-10-08T07:32:53.382490Z",
     "start_time": "2020-10-08T07:32:53.340082Z"
    }
   },
   "outputs": [
    {
     "data": {
      "text/plain": [
       "0        2018-07-22/2018-07-28\n",
       "1        2018-07-15/2018-07-21\n",
       "2        2018-07-15/2018-07-21\n",
       "3        2018-07-22/2018-07-28\n",
       "4        2018-07-22/2018-07-28\n",
       "                 ...          \n",
       "71995    2017-12-24/2017-12-30\n",
       "71996    2017-12-10/2017-12-16\n",
       "71997    2017-12-24/2017-12-30\n",
       "71998    2017-12-03/2017-12-09\n",
       "71999    2017-12-17/2017-12-23\n",
       "Name: purchase_time, Length: 72000, dtype: period[W-SAT]"
      ]
     },
     "execution_count": 6,
     "metadata": {},
     "output_type": "execute_result"
    }
   ],
   "source": [
    "household['purchase_time'].dt.to_period('W-SAT')"
   ]
  },
  {
   "cell_type": "markdown",
   "metadata": {},
   "source": [
    "### Bagaimana cara mengubah nama hari atau bulan kedalam format Bahasa Indonesia?"
   ]
  },
  {
   "cell_type": "markdown",
   "metadata": {},
   "source": [
    "Cara terbaik untuk mengubah nama hari/bulan ke dalam Bahasa Indonesia adalah dengan mengubah *locale time* terlebih dahulu, kemudian gunakan *method* `strftime()` untuk mengekstrak komponen dari datetimenya.\n",
    "\n",
    "Berikut adalah [referensi Python strftime](https://strftime.org/) untuk format penulisan strftime."
   ]
  },
  {
   "cell_type": "code",
   "execution_count": 7,
   "metadata": {
    "ExecuteTime": {
     "end_time": "2020-10-08T06:29:33.863048Z",
     "start_time": "2020-10-08T06:29:33.509878Z"
    }
   },
   "outputs": [
    {
     "data": {
      "text/plain": [
       "0        Minggu\n",
       "1        Minggu\n",
       "2        Minggu\n",
       "3        Selasa\n",
       "4         Kamis\n",
       "          ...  \n",
       "71995      Rabu\n",
       "71996      Rabu\n",
       "71997      Rabu\n",
       "71998     Kamis\n",
       "71999    Selasa\n",
       "Name: purchase_time, Length: 72000, dtype: object"
      ]
     },
     "execution_count": 7,
     "metadata": {},
     "output_type": "execute_result"
    }
   ],
   "source": [
    "import locale\n",
    "locale.setlocale(locale.LC_TIME, \"id\")\n",
    "\n",
    "household['purchase_time'].dt.strftime(\"%A\")"
   ]
  },
  {
   "cell_type": "markdown",
   "metadata": {},
   "source": [
    "## Categorical Data Type"
   ]
  },
  {
   "cell_type": "markdown",
   "metadata": {},
   "source": [
    "### Bagaimana cara mengetahui level pada category?"
   ]
  },
  {
   "cell_type": "markdown",
   "metadata": {},
   "source": [
    "Cara mengetahui level pada category dapat menggunakan attribut `cat.categories` atau dapat menggunakan *method* `unique()`.\n",
    "Berikut adalah contoh implementasinya:"
   ]
  },
  {
   "cell_type": "code",
   "execution_count": 8,
   "metadata": {
    "ExecuteTime": {
     "end_time": "2020-10-08T09:19:37.552122Z",
     "start_time": "2020-10-08T09:19:37.483521Z"
    }
   },
   "outputs": [],
   "source": [
    "# mengubah tipe data menjadi category\n",
    "household[['category','sub_category','format','yearmonth','weekday']] = \\\n",
    "household[['category','sub_category','format','yearmonth','weekday']].astype('category')"
   ]
  },
  {
   "cell_type": "code",
   "execution_count": 9,
   "metadata": {
    "ExecuteTime": {
     "end_time": "2020-10-08T09:19:39.638854Z",
     "start_time": "2020-10-08T09:19:39.627897Z"
    }
   },
   "outputs": [
    {
     "data": {
      "text/plain": [
       "Index(['hypermarket', 'minimarket', 'supermarket'], dtype='object')"
      ]
     },
     "execution_count": 9,
     "metadata": {},
     "output_type": "execute_result"
    }
   ],
   "source": [
    "household['format'].cat.categories"
   ]
  },
  {
   "cell_type": "code",
   "execution_count": 10,
   "metadata": {
    "ExecuteTime": {
     "end_time": "2020-10-08T09:19:41.804598Z",
     "start_time": "2020-10-08T09:19:41.783313Z"
    }
   },
   "outputs": [
    {
     "data": {
      "text/plain": [
       "['supermarket', 'minimarket', 'hypermarket']\n",
       "Categories (3, object): ['supermarket', 'minimarket', 'hypermarket']"
      ]
     },
     "execution_count": 10,
     "metadata": {},
     "output_type": "execute_result"
    }
   ],
   "source": [
    "household['format'].unique()"
   ]
  },
  {
   "cell_type": "markdown",
   "metadata": {},
   "source": [
    "**Apa yang membedakan `cat.categories` dengan `unique()`**\n",
    "- `cat.categories` adalah atribut milik tipe data categorical, sehingga tidak dapat digunakan selain tipe data categorical. \n",
    "- `unique()` adalah *method* yang dimiliki oleh `pandas` sehingga dapat digunakan secara fleksible untuk tipe data lainnya."
   ]
  },
  {
   "cell_type": "markdown",
   "metadata": {},
   "source": [
    "## Contingency Table"
   ]
  },
  {
   "cell_type": "markdown",
   "metadata": {},
   "source": [
    "### Apakah parameter `aggfunc` pada crosstab dapat menampilkan lebih dari satu fungsi aggregasi?\n",
    "\n",
    "Parameter `aggfunc` dapat menampilkan lebih dari satu fungsi aggregasi. Berikut adalah contoh implementasi menampilkan tabulasi silang pada data `household` menggunakan aggregasi `mean` dan `sum`:"
   ]
  },
  {
   "cell_type": "code",
   "execution_count": 11,
   "metadata": {
    "ExecuteTime": {
     "end_time": "2020-10-08T09:19:48.632739Z",
     "start_time": "2020-10-08T09:19:48.595662Z"
    }
   },
   "outputs": [
    {
     "data": {
      "text/html": [
       "<div>\n",
       "<style scoped>\n",
       "    .dataframe tbody tr th:only-of-type {\n",
       "        vertical-align: middle;\n",
       "    }\n",
       "\n",
       "    .dataframe tbody tr th {\n",
       "        vertical-align: top;\n",
       "    }\n",
       "\n",
       "    .dataframe thead th {\n",
       "        text-align: right;\n",
       "    }\n",
       "</style>\n",
       "<table border=\"1\" class=\"dataframe\">\n",
       "  <thead>\n",
       "    <tr style=\"text-align: right;\">\n",
       "      <th>format</th>\n",
       "      <th>hypermarket</th>\n",
       "      <th>minimarket</th>\n",
       "      <th>supermarket</th>\n",
       "    </tr>\n",
       "    <tr>\n",
       "      <th>category</th>\n",
       "      <th></th>\n",
       "      <th></th>\n",
       "      <th></th>\n",
       "    </tr>\n",
       "  </thead>\n",
       "  <tbody>\n",
       "    <tr>\n",
       "      <th>Fabric Care</th>\n",
       "      <td>19328.141915</td>\n",
       "      <td>17757.135774</td>\n",
       "      <td>17847.557137</td>\n",
       "    </tr>\n",
       "    <tr>\n",
       "      <th>Rice</th>\n",
       "      <td>71205.458458</td>\n",
       "      <td>67135.569554</td>\n",
       "      <td>74921.182150</td>\n",
       "    </tr>\n",
       "    <tr>\n",
       "      <th>Sugar/Flavored Syrup</th>\n",
       "      <td>13539.915728</td>\n",
       "      <td>12352.135470</td>\n",
       "      <td>13071.112361</td>\n",
       "    </tr>\n",
       "  </tbody>\n",
       "</table>\n",
       "</div>"
      ],
      "text/plain": [
       "format                 hypermarket    minimarket   supermarket\n",
       "category                                                      \n",
       "Fabric Care           19328.141915  17757.135774  17847.557137\n",
       "Rice                  71205.458458  67135.569554  74921.182150\n",
       "Sugar/Flavored Syrup  13539.915728  12352.135470  13071.112361"
      ]
     },
     "execution_count": 11,
     "metadata": {},
     "output_type": "execute_result"
    }
   ],
   "source": [
    "pd.crosstab(\n",
    "    index=household['category'],\n",
    "    columns=household['format'],\n",
    "    values=household['unit_price'],\n",
    "    aggfunc='mean'\n",
    ")"
   ]
  },
  {
   "cell_type": "markdown",
   "metadata": {},
   "source": [
    "### Apa kegunaan parameter `margins=True` pada method `pd.crosstab`?\n",
    "\n",
    "Parameter `margins=True` pada crosstab digunakan untuk menjumlahkan hasil cross tabulasi, sehingga ada kolom tambahan dengan nama kolom `\"All\"` yang berisi total nilai."
   ]
  },
  {
   "cell_type": "code",
   "execution_count": 12,
   "metadata": {
    "ExecuteTime": {
     "end_time": "2020-10-08T09:19:52.309734Z",
     "start_time": "2020-10-08T09:19:52.239149Z"
    }
   },
   "outputs": [
    {
     "data": {
      "text/html": [
       "<div>\n",
       "<style scoped>\n",
       "    .dataframe tbody tr th:only-of-type {\n",
       "        vertical-align: middle;\n",
       "    }\n",
       "\n",
       "    .dataframe tbody tr th {\n",
       "        vertical-align: top;\n",
       "    }\n",
       "\n",
       "    .dataframe thead th {\n",
       "        text-align: right;\n",
       "    }\n",
       "</style>\n",
       "<table border=\"1\" class=\"dataframe\">\n",
       "  <thead>\n",
       "    <tr style=\"text-align: right;\">\n",
       "      <th>format</th>\n",
       "      <th>hypermarket</th>\n",
       "      <th>minimarket</th>\n",
       "      <th>supermarket</th>\n",
       "      <th>All</th>\n",
       "    </tr>\n",
       "    <tr>\n",
       "      <th>category</th>\n",
       "      <th></th>\n",
       "      <th></th>\n",
       "      <th></th>\n",
       "      <th></th>\n",
       "    </tr>\n",
       "  </thead>\n",
       "  <tbody>\n",
       "    <tr>\n",
       "      <th>Fabric Care</th>\n",
       "      <td>19328.141915</td>\n",
       "      <td>17757.135774</td>\n",
       "      <td>17847.557137</td>\n",
       "      <td>17893.793214</td>\n",
       "    </tr>\n",
       "    <tr>\n",
       "      <th>Rice</th>\n",
       "      <td>71205.458458</td>\n",
       "      <td>67135.569554</td>\n",
       "      <td>74921.182150</td>\n",
       "      <td>70013.146313</td>\n",
       "    </tr>\n",
       "    <tr>\n",
       "      <th>Sugar/Flavored Syrup</th>\n",
       "      <td>13539.915728</td>\n",
       "      <td>12352.135470</td>\n",
       "      <td>13071.112361</td>\n",
       "      <td>12645.066024</td>\n",
       "    </tr>\n",
       "    <tr>\n",
       "      <th>All</th>\n",
       "      <td>27079.468095</td>\n",
       "      <td>23460.177971</td>\n",
       "      <td>27457.145330</td>\n",
       "      <td>24830.776334</td>\n",
       "    </tr>\n",
       "  </tbody>\n",
       "</table>\n",
       "</div>"
      ],
      "text/plain": [
       "format                 hypermarket    minimarket   supermarket           All\n",
       "category                                                                    \n",
       "Fabric Care           19328.141915  17757.135774  17847.557137  17893.793214\n",
       "Rice                  71205.458458  67135.569554  74921.182150  70013.146313\n",
       "Sugar/Flavored Syrup  13539.915728  12352.135470  13071.112361  12645.066024\n",
       "All                   27079.468095  23460.177971  27457.145330  24830.776334"
      ]
     },
     "execution_count": 12,
     "metadata": {},
     "output_type": "execute_result"
    }
   ],
   "source": [
    "household_crosstab = \\\n",
    "pd.crosstab(\n",
    "    index=household['category'],\n",
    "    columns=household['format'],\n",
    "    values=household['unit_price'],\n",
    "    aggfunc='mean',\n",
    "    margins=True\n",
    ")\n",
    "household_crosstab"
   ]
  },
  {
   "cell_type": "markdown",
   "metadata": {},
   "source": [
    "### Apakah kita dapat melakukan `sort_values()` pada kolom `All` saat parameter `margins=True`?\n",
    "\n",
    "Bisa, kita dapat melakukan pengurutan seperti biasa dengan menganggap kolom `All` seperti kolom lainnya. Berikut adalah contohnya, `axis=0` digunakan untuk memastikan bahwa **baris** diurutkan berdasarkan kolom `All`:"
   ]
  },
  {
   "cell_type": "code",
   "execution_count": 13,
   "metadata": {
    "scrolled": true
   },
   "outputs": [
    {
     "data": {
      "text/html": [
       "<div>\n",
       "<style scoped>\n",
       "    .dataframe tbody tr th:only-of-type {\n",
       "        vertical-align: middle;\n",
       "    }\n",
       "\n",
       "    .dataframe tbody tr th {\n",
       "        vertical-align: top;\n",
       "    }\n",
       "\n",
       "    .dataframe thead th {\n",
       "        text-align: right;\n",
       "    }\n",
       "</style>\n",
       "<table border=\"1\" class=\"dataframe\">\n",
       "  <thead>\n",
       "    <tr style=\"text-align: right;\">\n",
       "      <th>format</th>\n",
       "      <th>hypermarket</th>\n",
       "      <th>minimarket</th>\n",
       "      <th>supermarket</th>\n",
       "      <th>All</th>\n",
       "    </tr>\n",
       "    <tr>\n",
       "      <th>category</th>\n",
       "      <th></th>\n",
       "      <th></th>\n",
       "      <th></th>\n",
       "      <th></th>\n",
       "    </tr>\n",
       "  </thead>\n",
       "  <tbody>\n",
       "    <tr>\n",
       "      <th>Sugar/Flavored Syrup</th>\n",
       "      <td>13539.915728</td>\n",
       "      <td>12352.135470</td>\n",
       "      <td>13071.112361</td>\n",
       "      <td>12645.066024</td>\n",
       "    </tr>\n",
       "    <tr>\n",
       "      <th>Fabric Care</th>\n",
       "      <td>19328.141915</td>\n",
       "      <td>17757.135774</td>\n",
       "      <td>17847.557137</td>\n",
       "      <td>17893.793214</td>\n",
       "    </tr>\n",
       "    <tr>\n",
       "      <th>All</th>\n",
       "      <td>27079.468095</td>\n",
       "      <td>23460.177971</td>\n",
       "      <td>27457.145330</td>\n",
       "      <td>24830.776334</td>\n",
       "    </tr>\n",
       "    <tr>\n",
       "      <th>Rice</th>\n",
       "      <td>71205.458458</td>\n",
       "      <td>67135.569554</td>\n",
       "      <td>74921.182150</td>\n",
       "      <td>70013.146313</td>\n",
       "    </tr>\n",
       "  </tbody>\n",
       "</table>\n",
       "</div>"
      ],
      "text/plain": [
       "format                 hypermarket    minimarket   supermarket           All\n",
       "category                                                                    \n",
       "Sugar/Flavored Syrup  13539.915728  12352.135470  13071.112361  12645.066024\n",
       "Fabric Care           19328.141915  17757.135774  17847.557137  17893.793214\n",
       "All                   27079.468095  23460.177971  27457.145330  24830.776334\n",
       "Rice                  71205.458458  67135.569554  74921.182150  70013.146313"
      ]
     },
     "execution_count": 13,
     "metadata": {},
     "output_type": "execute_result"
    }
   ],
   "source": [
    "household_crosstab.sort_values(by='All', axis=0)"
   ]
  },
  {
   "cell_type": "markdown",
   "metadata": {},
   "source": [
    "Sedangkan apabila kita menggunakan `axis=1`, **kolom** akan diurutkan berdasarkan baris `All`:"
   ]
  },
  {
   "cell_type": "code",
   "execution_count": 14,
   "metadata": {},
   "outputs": [
    {
     "data": {
      "text/html": [
       "<div>\n",
       "<style scoped>\n",
       "    .dataframe tbody tr th:only-of-type {\n",
       "        vertical-align: middle;\n",
       "    }\n",
       "\n",
       "    .dataframe tbody tr th {\n",
       "        vertical-align: top;\n",
       "    }\n",
       "\n",
       "    .dataframe thead th {\n",
       "        text-align: right;\n",
       "    }\n",
       "</style>\n",
       "<table border=\"1\" class=\"dataframe\">\n",
       "  <thead>\n",
       "    <tr style=\"text-align: right;\">\n",
       "      <th>format</th>\n",
       "      <th>minimarket</th>\n",
       "      <th>All</th>\n",
       "      <th>hypermarket</th>\n",
       "      <th>supermarket</th>\n",
       "    </tr>\n",
       "    <tr>\n",
       "      <th>category</th>\n",
       "      <th></th>\n",
       "      <th></th>\n",
       "      <th></th>\n",
       "      <th></th>\n",
       "    </tr>\n",
       "  </thead>\n",
       "  <tbody>\n",
       "    <tr>\n",
       "      <th>Fabric Care</th>\n",
       "      <td>17757.135774</td>\n",
       "      <td>17893.793214</td>\n",
       "      <td>19328.141915</td>\n",
       "      <td>17847.557137</td>\n",
       "    </tr>\n",
       "    <tr>\n",
       "      <th>Rice</th>\n",
       "      <td>67135.569554</td>\n",
       "      <td>70013.146313</td>\n",
       "      <td>71205.458458</td>\n",
       "      <td>74921.182150</td>\n",
       "    </tr>\n",
       "    <tr>\n",
       "      <th>Sugar/Flavored Syrup</th>\n",
       "      <td>12352.135470</td>\n",
       "      <td>12645.066024</td>\n",
       "      <td>13539.915728</td>\n",
       "      <td>13071.112361</td>\n",
       "    </tr>\n",
       "    <tr>\n",
       "      <th>All</th>\n",
       "      <td>23460.177971</td>\n",
       "      <td>24830.776334</td>\n",
       "      <td>27079.468095</td>\n",
       "      <td>27457.145330</td>\n",
       "    </tr>\n",
       "  </tbody>\n",
       "</table>\n",
       "</div>"
      ],
      "text/plain": [
       "format                  minimarket           All   hypermarket   supermarket\n",
       "category                                                                    \n",
       "Fabric Care           17757.135774  17893.793214  19328.141915  17847.557137\n",
       "Rice                  67135.569554  70013.146313  71205.458458  74921.182150\n",
       "Sugar/Flavored Syrup  12352.135470  12645.066024  13539.915728  13071.112361\n",
       "All                   23460.177971  24830.776334  27079.468095  27457.145330"
      ]
     },
     "execution_count": 14,
     "metadata": {},
     "output_type": "execute_result"
    }
   ],
   "source": [
    "household_crosstab.sort_values(by='All', axis=1)"
   ]
  },
  {
   "cell_type": "markdown",
   "metadata": {},
   "source": [
    "## Missing Values"
   ]
  },
  {
   "cell_type": "markdown",
   "metadata": {},
   "source": [
    "### Bagaimana menampilkan data yang memiliki missing values saja?\n",
    "\n",
    "Objek `household2` berikut adalah contoh DataFrame yang memiliki beberapa *missing values* didalamnya. "
   ]
  },
  {
   "cell_type": "code",
   "execution_count": 15,
   "metadata": {
    "ExecuteTime": {
     "end_time": "2020-10-08T09:20:01.022786Z",
     "start_time": "2020-10-08T09:19:55.880882Z"
    },
    "hide_input": true
   },
   "outputs": [],
   "source": [
    "household = pd.read_csv(\"data_input/household.csv\", index_col=1, parse_dates=['purchase_time'])\n",
    "household.drop(['receipt_id', 'yearmonth', 'sub_category'], axis=1, inplace=True)\n",
    "household['weekday'] = household['purchase_time'].dt.day_name()\n",
    "import math\n",
    "x=[i for i in range(32000000, 32000005)]\n",
    "x.insert(2,32030785)\n",
    "household2 = household.head(6).copy()\n",
    "household2 = household2.reindex(x)\n",
    "household2 = pd.concat([household2, household.head(14)])\n",
    "household2.loc[31885876, \"weekday\"] = math.nan"
   ]
  },
  {
   "cell_type": "code",
   "execution_count": 16,
   "metadata": {
    "ExecuteTime": {
     "end_time": "2020-10-08T09:20:01.054198Z",
     "start_time": "2020-10-08T09:20:01.026184Z"
    },
    "scrolled": false
   },
   "outputs": [
    {
     "data": {
      "text/html": [
       "<div>\n",
       "<style scoped>\n",
       "    .dataframe tbody tr th:only-of-type {\n",
       "        vertical-align: middle;\n",
       "    }\n",
       "\n",
       "    .dataframe tbody tr th {\n",
       "        vertical-align: top;\n",
       "    }\n",
       "\n",
       "    .dataframe thead th {\n",
       "        text-align: right;\n",
       "    }\n",
       "</style>\n",
       "<table border=\"1\" class=\"dataframe\">\n",
       "  <thead>\n",
       "    <tr style=\"text-align: right;\">\n",
       "      <th></th>\n",
       "      <th>purchase_time</th>\n",
       "      <th>category</th>\n",
       "      <th>format</th>\n",
       "      <th>unit_price</th>\n",
       "      <th>discount</th>\n",
       "      <th>quantity</th>\n",
       "      <th>weekday</th>\n",
       "    </tr>\n",
       "    <tr>\n",
       "      <th>receipts_item_id</th>\n",
       "      <th></th>\n",
       "      <th></th>\n",
       "      <th></th>\n",
       "      <th></th>\n",
       "      <th></th>\n",
       "      <th></th>\n",
       "      <th></th>\n",
       "    </tr>\n",
       "  </thead>\n",
       "  <tbody>\n",
       "    <tr>\n",
       "      <th>32000000</th>\n",
       "      <td>NaT</td>\n",
       "      <td>NaN</td>\n",
       "      <td>NaN</td>\n",
       "      <td>NaN</td>\n",
       "      <td>NaN</td>\n",
       "      <td>NaN</td>\n",
       "      <td>NaN</td>\n",
       "    </tr>\n",
       "    <tr>\n",
       "      <th>32000001</th>\n",
       "      <td>NaT</td>\n",
       "      <td>NaN</td>\n",
       "      <td>NaN</td>\n",
       "      <td>NaN</td>\n",
       "      <td>NaN</td>\n",
       "      <td>NaN</td>\n",
       "      <td>NaN</td>\n",
       "    </tr>\n",
       "    <tr>\n",
       "      <th>32030785</th>\n",
       "      <td>2018-07-17 18:05:00</td>\n",
       "      <td>Rice</td>\n",
       "      <td>minimarket</td>\n",
       "      <td>63500.0</td>\n",
       "      <td>0.0</td>\n",
       "      <td>1.0</td>\n",
       "      <td>Tuesday</td>\n",
       "    </tr>\n",
       "    <tr>\n",
       "      <th>32000002</th>\n",
       "      <td>NaT</td>\n",
       "      <td>NaN</td>\n",
       "      <td>NaN</td>\n",
       "      <td>NaN</td>\n",
       "      <td>NaN</td>\n",
       "      <td>NaN</td>\n",
       "      <td>NaN</td>\n",
       "    </tr>\n",
       "    <tr>\n",
       "      <th>32000003</th>\n",
       "      <td>NaT</td>\n",
       "      <td>NaN</td>\n",
       "      <td>NaN</td>\n",
       "      <td>NaN</td>\n",
       "      <td>NaN</td>\n",
       "      <td>NaN</td>\n",
       "      <td>NaN</td>\n",
       "    </tr>\n",
       "    <tr>\n",
       "      <th>32000004</th>\n",
       "      <td>NaT</td>\n",
       "      <td>NaN</td>\n",
       "      <td>NaN</td>\n",
       "      <td>NaN</td>\n",
       "      <td>NaN</td>\n",
       "      <td>NaN</td>\n",
       "      <td>NaN</td>\n",
       "    </tr>\n",
       "    <tr>\n",
       "      <th>32369294</th>\n",
       "      <td>2018-07-22 21:19:00</td>\n",
       "      <td>Rice</td>\n",
       "      <td>supermarket</td>\n",
       "      <td>128000.0</td>\n",
       "      <td>0.0</td>\n",
       "      <td>1.0</td>\n",
       "      <td>Sunday</td>\n",
       "    </tr>\n",
       "    <tr>\n",
       "      <th>31885876</th>\n",
       "      <td>2018-07-15 16:17:00</td>\n",
       "      <td>Rice</td>\n",
       "      <td>minimarket</td>\n",
       "      <td>102750.0</td>\n",
       "      <td>0.0</td>\n",
       "      <td>1.0</td>\n",
       "      <td>NaN</td>\n",
       "    </tr>\n",
       "    <tr>\n",
       "      <th>31930241</th>\n",
       "      <td>2018-07-15 12:12:00</td>\n",
       "      <td>Rice</td>\n",
       "      <td>supermarket</td>\n",
       "      <td>64000.0</td>\n",
       "      <td>0.0</td>\n",
       "      <td>3.0</td>\n",
       "      <td>Sunday</td>\n",
       "    </tr>\n",
       "    <tr>\n",
       "      <th>32418582</th>\n",
       "      <td>2018-07-24 08:27:00</td>\n",
       "      <td>Rice</td>\n",
       "      <td>minimarket</td>\n",
       "      <td>65000.0</td>\n",
       "      <td>0.0</td>\n",
       "      <td>1.0</td>\n",
       "      <td>Tuesday</td>\n",
       "    </tr>\n",
       "    <tr>\n",
       "      <th>32561236</th>\n",
       "      <td>2018-07-26 11:28:00</td>\n",
       "      <td>Rice</td>\n",
       "      <td>supermarket</td>\n",
       "      <td>124500.0</td>\n",
       "      <td>0.0</td>\n",
       "      <td>1.0</td>\n",
       "      <td>Thursday</td>\n",
       "    </tr>\n",
       "    <tr>\n",
       "      <th>32030785</th>\n",
       "      <td>2018-07-17 18:05:00</td>\n",
       "      <td>Rice</td>\n",
       "      <td>minimarket</td>\n",
       "      <td>63500.0</td>\n",
       "      <td>0.0</td>\n",
       "      <td>1.0</td>\n",
       "      <td>Tuesday</td>\n",
       "    </tr>\n",
       "    <tr>\n",
       "      <th>32935097</th>\n",
       "      <td>2018-07-29 18:18:00</td>\n",
       "      <td>Rice</td>\n",
       "      <td>supermarket</td>\n",
       "      <td>66500.0</td>\n",
       "      <td>0.0</td>\n",
       "      <td>1.0</td>\n",
       "      <td>Sunday</td>\n",
       "    </tr>\n",
       "    <tr>\n",
       "      <th>32593606</th>\n",
       "      <td>2018-07-25 12:48:00</td>\n",
       "      <td>Rice</td>\n",
       "      <td>minimarket</td>\n",
       "      <td>62500.0</td>\n",
       "      <td>0.0</td>\n",
       "      <td>1.0</td>\n",
       "      <td>Wednesday</td>\n",
       "    </tr>\n",
       "    <tr>\n",
       "      <th>32573843</th>\n",
       "      <td>2018-07-26 16:41:00</td>\n",
       "      <td>Rice</td>\n",
       "      <td>minimarket</td>\n",
       "      <td>62500.0</td>\n",
       "      <td>0.0</td>\n",
       "      <td>1.0</td>\n",
       "      <td>Thursday</td>\n",
       "    </tr>\n",
       "    <tr>\n",
       "      <th>31913062</th>\n",
       "      <td>2018-07-14 21:17:00</td>\n",
       "      <td>Rice</td>\n",
       "      <td>supermarket</td>\n",
       "      <td>64000.0</td>\n",
       "      <td>0.0</td>\n",
       "      <td>3.0</td>\n",
       "      <td>Saturday</td>\n",
       "    </tr>\n",
       "    <tr>\n",
       "      <th>31125365</th>\n",
       "      <td>2018-07-02 15:39:00</td>\n",
       "      <td>Rice</td>\n",
       "      <td>minimarket</td>\n",
       "      <td>112500.0</td>\n",
       "      <td>0.0</td>\n",
       "      <td>1.0</td>\n",
       "      <td>Monday</td>\n",
       "    </tr>\n",
       "    <tr>\n",
       "      <th>32856560</th>\n",
       "      <td>2018-07-31 05:51:00</td>\n",
       "      <td>Rice</td>\n",
       "      <td>hypermarket</td>\n",
       "      <td>77750.0</td>\n",
       "      <td>0.0</td>\n",
       "      <td>1.0</td>\n",
       "      <td>Tuesday</td>\n",
       "    </tr>\n",
       "    <tr>\n",
       "      <th>32552145</th>\n",
       "      <td>2018-07-26 11:43:00</td>\n",
       "      <td>Rice</td>\n",
       "      <td>minimarket</td>\n",
       "      <td>66500.0</td>\n",
       "      <td>0.0</td>\n",
       "      <td>1.0</td>\n",
       "      <td>Thursday</td>\n",
       "    </tr>\n",
       "    <tr>\n",
       "      <th>32369065</th>\n",
       "      <td>2018-07-23 14:22:00</td>\n",
       "      <td>Rice</td>\n",
       "      <td>minimarket</td>\n",
       "      <td>62900.0</td>\n",
       "      <td>0.0</td>\n",
       "      <td>1.0</td>\n",
       "      <td>Monday</td>\n",
       "    </tr>\n",
       "  </tbody>\n",
       "</table>\n",
       "</div>"
      ],
      "text/plain": [
       "                       purchase_time category       format  unit_price  \\\n",
       "receipts_item_id                                                         \n",
       "32000000                         NaT      NaN          NaN         NaN   \n",
       "32000001                         NaT      NaN          NaN         NaN   \n",
       "32030785         2018-07-17 18:05:00     Rice   minimarket     63500.0   \n",
       "32000002                         NaT      NaN          NaN         NaN   \n",
       "32000003                         NaT      NaN          NaN         NaN   \n",
       "32000004                         NaT      NaN          NaN         NaN   \n",
       "32369294         2018-07-22 21:19:00     Rice  supermarket    128000.0   \n",
       "31885876         2018-07-15 16:17:00     Rice   minimarket    102750.0   \n",
       "31930241         2018-07-15 12:12:00     Rice  supermarket     64000.0   \n",
       "32418582         2018-07-24 08:27:00     Rice   minimarket     65000.0   \n",
       "32561236         2018-07-26 11:28:00     Rice  supermarket    124500.0   \n",
       "32030785         2018-07-17 18:05:00     Rice   minimarket     63500.0   \n",
       "32935097         2018-07-29 18:18:00     Rice  supermarket     66500.0   \n",
       "32593606         2018-07-25 12:48:00     Rice   minimarket     62500.0   \n",
       "32573843         2018-07-26 16:41:00     Rice   minimarket     62500.0   \n",
       "31913062         2018-07-14 21:17:00     Rice  supermarket     64000.0   \n",
       "31125365         2018-07-02 15:39:00     Rice   minimarket    112500.0   \n",
       "32856560         2018-07-31 05:51:00     Rice  hypermarket     77750.0   \n",
       "32552145         2018-07-26 11:43:00     Rice   minimarket     66500.0   \n",
       "32369065         2018-07-23 14:22:00     Rice   minimarket     62900.0   \n",
       "\n",
       "                  discount  quantity    weekday  \n",
       "receipts_item_id                                 \n",
       "32000000               NaN       NaN        NaN  \n",
       "32000001               NaN       NaN        NaN  \n",
       "32030785               0.0       1.0    Tuesday  \n",
       "32000002               NaN       NaN        NaN  \n",
       "32000003               NaN       NaN        NaN  \n",
       "32000004               NaN       NaN        NaN  \n",
       "32369294               0.0       1.0     Sunday  \n",
       "31885876               0.0       1.0        NaN  \n",
       "31930241               0.0       3.0     Sunday  \n",
       "32418582               0.0       1.0    Tuesday  \n",
       "32561236               0.0       1.0   Thursday  \n",
       "32030785               0.0       1.0    Tuesday  \n",
       "32935097               0.0       1.0     Sunday  \n",
       "32593606               0.0       1.0  Wednesday  \n",
       "32573843               0.0       1.0   Thursday  \n",
       "31913062               0.0       3.0   Saturday  \n",
       "31125365               0.0       1.0     Monday  \n",
       "32856560               0.0       1.0    Tuesday  \n",
       "32552145               0.0       1.0   Thursday  \n",
       "32369065               0.0       1.0     Monday  "
      ]
     },
     "execution_count": 16,
     "metadata": {},
     "output_type": "execute_result"
    }
   ],
   "source": [
    "household2"
   ]
  },
  {
   "cell_type": "markdown",
   "metadata": {},
   "source": [
    "Berikut adalah kode yang dapat digunakan untuk menampilkan data yang memiliki *missing values* saja.\n",
    "- Method `.isna()` digunakan untuk melakukan pengecekan *missing values*\n",
    "- Method `.any(axis=1)` mengecek apakah terdapat *missing values* pada **kolom**."
   ]
  },
  {
   "cell_type": "code",
   "execution_count": 17,
   "metadata": {
    "ExecuteTime": {
     "end_time": "2020-10-08T09:20:01.069689Z",
     "start_time": "2020-10-08T09:20:01.056486Z"
    }
   },
   "outputs": [
    {
     "data": {
      "text/html": [
       "<div>\n",
       "<style scoped>\n",
       "    .dataframe tbody tr th:only-of-type {\n",
       "        vertical-align: middle;\n",
       "    }\n",
       "\n",
       "    .dataframe tbody tr th {\n",
       "        vertical-align: top;\n",
       "    }\n",
       "\n",
       "    .dataframe thead th {\n",
       "        text-align: right;\n",
       "    }\n",
       "</style>\n",
       "<table border=\"1\" class=\"dataframe\">\n",
       "  <thead>\n",
       "    <tr style=\"text-align: right;\">\n",
       "      <th></th>\n",
       "      <th>purchase_time</th>\n",
       "      <th>category</th>\n",
       "      <th>format</th>\n",
       "      <th>unit_price</th>\n",
       "      <th>discount</th>\n",
       "      <th>quantity</th>\n",
       "      <th>weekday</th>\n",
       "    </tr>\n",
       "    <tr>\n",
       "      <th>receipts_item_id</th>\n",
       "      <th></th>\n",
       "      <th></th>\n",
       "      <th></th>\n",
       "      <th></th>\n",
       "      <th></th>\n",
       "      <th></th>\n",
       "      <th></th>\n",
       "    </tr>\n",
       "  </thead>\n",
       "  <tbody>\n",
       "    <tr>\n",
       "      <th>32000000</th>\n",
       "      <td>NaT</td>\n",
       "      <td>NaN</td>\n",
       "      <td>NaN</td>\n",
       "      <td>NaN</td>\n",
       "      <td>NaN</td>\n",
       "      <td>NaN</td>\n",
       "      <td>NaN</td>\n",
       "    </tr>\n",
       "    <tr>\n",
       "      <th>32000001</th>\n",
       "      <td>NaT</td>\n",
       "      <td>NaN</td>\n",
       "      <td>NaN</td>\n",
       "      <td>NaN</td>\n",
       "      <td>NaN</td>\n",
       "      <td>NaN</td>\n",
       "      <td>NaN</td>\n",
       "    </tr>\n",
       "    <tr>\n",
       "      <th>32000002</th>\n",
       "      <td>NaT</td>\n",
       "      <td>NaN</td>\n",
       "      <td>NaN</td>\n",
       "      <td>NaN</td>\n",
       "      <td>NaN</td>\n",
       "      <td>NaN</td>\n",
       "      <td>NaN</td>\n",
       "    </tr>\n",
       "    <tr>\n",
       "      <th>32000003</th>\n",
       "      <td>NaT</td>\n",
       "      <td>NaN</td>\n",
       "      <td>NaN</td>\n",
       "      <td>NaN</td>\n",
       "      <td>NaN</td>\n",
       "      <td>NaN</td>\n",
       "      <td>NaN</td>\n",
       "    </tr>\n",
       "    <tr>\n",
       "      <th>32000004</th>\n",
       "      <td>NaT</td>\n",
       "      <td>NaN</td>\n",
       "      <td>NaN</td>\n",
       "      <td>NaN</td>\n",
       "      <td>NaN</td>\n",
       "      <td>NaN</td>\n",
       "      <td>NaN</td>\n",
       "    </tr>\n",
       "    <tr>\n",
       "      <th>31885876</th>\n",
       "      <td>2018-07-15 16:17:00</td>\n",
       "      <td>Rice</td>\n",
       "      <td>minimarket</td>\n",
       "      <td>102750.0</td>\n",
       "      <td>0.0</td>\n",
       "      <td>1.0</td>\n",
       "      <td>NaN</td>\n",
       "    </tr>\n",
       "  </tbody>\n",
       "</table>\n",
       "</div>"
      ],
      "text/plain": [
       "                       purchase_time category      format  unit_price  \\\n",
       "receipts_item_id                                                        \n",
       "32000000                         NaT      NaN         NaN         NaN   \n",
       "32000001                         NaT      NaN         NaN         NaN   \n",
       "32000002                         NaT      NaN         NaN         NaN   \n",
       "32000003                         NaT      NaN         NaN         NaN   \n",
       "32000004                         NaT      NaN         NaN         NaN   \n",
       "31885876         2018-07-15 16:17:00     Rice  minimarket    102750.0   \n",
       "\n",
       "                  discount  quantity weekday  \n",
       "receipts_item_id                              \n",
       "32000000               NaN       NaN     NaN  \n",
       "32000001               NaN       NaN     NaN  \n",
       "32000002               NaN       NaN     NaN  \n",
       "32000003               NaN       NaN     NaN  \n",
       "32000004               NaN       NaN     NaN  \n",
       "31885876               0.0       1.0     NaN  "
      ]
     },
     "execution_count": 17,
     "metadata": {},
     "output_type": "execute_result"
    }
   ],
   "source": [
    "household2[household2.isna().any(axis=1)]"
   ]
  },
  {
   "cell_type": "markdown",
   "metadata": {},
   "source": [
    "### Bagaimana cara menangani *missing values* pada data?\n",
    "\n",
    "Terdapat berbagai cara menangani data yang mengandung *missing value*, yang paling umum adalah *deletion*, *full analysis*, dan *imputation*."
   ]
  },
  {
   "cell_type": "markdown",
   "metadata": {},
   "source": [
    "**a. Deletion** adalah **membuang variabel/kolom** pada data yang memiliki jumlah *missing value* (NA) melebihi 50% dari jumlah observasi. Hal ini menganggap bahwa variabel tersebut tidak banyak memberikan informasi pada data. Ketika membuang variabel perlu memperhatikan business case dari data tersebut, apakah variabel yang dibuang akan menghilangkan informasi yang cukup signifikan atau tidak? Apakah ketika variabel tersebut dibuang ada informasi yang berkurang dari data tersebut atau tidak?"
   ]
  },
  {
   "cell_type": "code",
   "execution_count": null,
   "metadata": {},
   "outputs": [],
   "source": []
  },
  {
   "cell_type": "markdown",
   "metadata": {},
   "source": [
    "**b. Full analysis** adalah **membuang observasi/baris** yang mengandung *missing value*. Cara ini dilakukan jika jumlah observasi yang mengandung *missing value* tidak melebihi 5% dari total observasi data."
   ]
  },
  {
   "cell_type": "code",
   "execution_count": null,
   "metadata": {},
   "outputs": [],
   "source": []
  },
  {
   "cell_type": "markdown",
   "metadata": {},
   "source": [
    "**c. Imputation** adalah **mengisi *missing value*** dengan suatu nilai tertentu. Cara ini dilakukan apabila jumlah missing value pada data cukup banyak (melebihi 5% jumlah observasi). Imputation umum dilakukan berdasarkan business knowledge dari variabel tersebut. Misalkan variabel jumlah pengunjung per jam pada sebuah restoran, seharusnya terdapat jumlah visitor yang bernilai 0 pada jam-jam tertentu karena pasti terdapat kemungkinan pada jam-jam tertentu tidak terdapat pengunjung. Apabila secara business knowledge seharusnya observasi tersebut memiliki suatu nilai, kita bisa melakukan imputation dengan menggunakan pusat datanya seperti mean/median untuk variabel numerik dan modus untuk variabel kategorik."
   ]
  },
  {
   "cell_type": "code",
   "execution_count": 18,
   "metadata": {},
   "outputs": [],
   "source": [
    "# fillna(0)\n"
   ]
  },
  {
   "cell_type": "code",
   "execution_count": 19,
   "metadata": {},
   "outputs": [],
   "source": [
    "# imputasi menggunakan pusat data\n"
   ]
  }
 ],
 "metadata": {
  "kernelspec": {
   "display_name": "Python [conda env:askalgo-py]",
   "language": "python",
   "name": "conda-env-askalgo-py-py"
  },
  "language_info": {
   "codemirror_mode": {
    "name": "ipython",
    "version": 3
   },
   "file_extension": ".py",
   "mimetype": "text/x-python",
   "name": "python",
   "nbconvert_exporter": "python",
   "pygments_lexer": "ipython3",
   "version": "3.7.9"
  },
  "toc": {
   "base_numbering": 1,
   "nav_menu": {},
   "number_sections": true,
   "sideBar": true,
   "skip_h1_title": true,
   "title_cell": "Table of Contents",
   "title_sidebar": "Contents",
   "toc_cell": false,
   "toc_position": {},
   "toc_section_display": true,
   "toc_window_display": false
  },
  "varInspector": {
   "cols": {
    "lenName": 16,
    "lenType": 16,
    "lenVar": 40
   },
   "kernels_config": {
    "python": {
     "delete_cmd_postfix": "",
     "delete_cmd_prefix": "del ",
     "library": "var_list.py",
     "varRefreshCmd": "print(var_dic_list())"
    },
    "r": {
     "delete_cmd_postfix": ") ",
     "delete_cmd_prefix": "rm(",
     "library": "var_list.r",
     "varRefreshCmd": "cat(var_dic_list()) "
    }
   },
   "types_to_exclude": [
    "module",
    "function",
    "builtin_function_or_method",
    "instance",
    "_Feature"
   ],
   "window_display": false
  }
 },
 "nbformat": 4,
 "nbformat_minor": 4
}
