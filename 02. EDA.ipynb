{
 "cells": [
  {
   "cell_type": "markdown",
   "metadata": {
    "ExecuteTime": {
     "end_time": "2020-10-07T08:38:39.103558Z",
     "start_time": "2020-10-07T08:38:38.327117Z"
    }
   },
   "source": [
    "# Exploratory Data Analysis"
   ]
  },
  {
   "cell_type": "markdown",
   "metadata": {},
   "source": [
    "### Apa goals dari mempelajari EDA?"
   ]
  },
  {
   "cell_type": "markdown",
   "metadata": {},
   "source": [
    "Goals dari EDA adalah mengenal data menggunakan beberapa teknik pengolahan data secara statistik maupun visual sehingga dapat memperoleh *insight* yang bermanfaat untuk menjawab pertanyaan bisnis."
   ]
  },
  {
   "cell_type": "markdown",
   "metadata": {},
   "source": [
    "## Datetime"
   ]
  },
  {
   "cell_type": "markdown",
   "metadata": {},
   "source": [
    "### Apakah perbedaan antara `pd.to_datetime()` dengan `astype(datetime64)`?"
   ]
  },
  {
   "cell_type": "markdown",
   "metadata": {},
   "source": [
    "Method `pd.to_datetime()` lebih fleksible jika dibandingkan dengan `astype(datetime64)`.\n",
    "Hal ini dikarenakan method `pd.to_datetime()`memiliki lebih banyak parameter didalamnya. Contohnya saja, method ini dapat melakukan transformasi bentuk datetime dengan menambahkan parameter `format` dalam melakukan formatting urutan tanggal. Eg:`pd.to_datetime('30-11-2020', format='%d-%m-%Y')`."
   ]
  },
  {
   "cell_type": "markdown",
   "metadata": {},
   "source": [
    "### Bagaimana cara melihat selisih/jeda tanggal ?"
   ]
  },
  {
   "cell_type": "markdown",
   "metadata": {},
   "source": [
    "Selisih tanggal dapat dihitung menggunakan *method* `timedelta` yang disediakan oleh *library* `datetime`.\n",
    "Berikut dibawah ini adalah ilustrasi penggunaannya:"
   ]
  },
  {
   "cell_type": "code",
   "execution_count": 47,
   "metadata": {
    "ExecuteTime": {
     "end_time": "2020-10-08T06:24:27.958713Z",
     "start_time": "2020-10-08T06:24:22.976005Z"
    }
   },
   "outputs": [],
   "source": [
    "import pandas as pd\n",
    "\n",
    "household = pd.read_csv('data_input/household.csv')\n",
    "household['purchase_time'] = pd.to_datetime(household['purchase_time'])\n",
    "household['weekday'] = household['purchase_time'].dt.day_name()"
   ]
  },
  {
   "cell_type": "code",
   "execution_count": 48,
   "metadata": {
    "ExecuteTime": {
     "end_time": "2020-10-08T06:24:27.988059Z",
     "start_time": "2020-10-08T06:24:27.960710Z"
    }
   },
   "outputs": [
    {
     "data": {
      "text/html": [
       "<div>\n",
       "<style scoped>\n",
       "    .dataframe tbody tr th:only-of-type {\n",
       "        vertical-align: middle;\n",
       "    }\n",
       "\n",
       "    .dataframe tbody tr th {\n",
       "        vertical-align: top;\n",
       "    }\n",
       "\n",
       "    .dataframe thead th {\n",
       "        text-align: right;\n",
       "    }\n",
       "</style>\n",
       "<table border=\"1\" class=\"dataframe\">\n",
       "  <thead>\n",
       "    <tr style=\"text-align: right;\">\n",
       "      <th></th>\n",
       "      <th>receipt_id</th>\n",
       "      <th>receipts_item_id</th>\n",
       "      <th>purchase_time</th>\n",
       "      <th>category</th>\n",
       "      <th>sub_category</th>\n",
       "      <th>format</th>\n",
       "      <th>unit_price</th>\n",
       "      <th>discount</th>\n",
       "      <th>quantity</th>\n",
       "      <th>yearmonth</th>\n",
       "      <th>weekday</th>\n",
       "    </tr>\n",
       "  </thead>\n",
       "  <tbody>\n",
       "    <tr>\n",
       "      <th>0</th>\n",
       "      <td>9622257</td>\n",
       "      <td>32369294</td>\n",
       "      <td>2018-07-22 21:19:00</td>\n",
       "      <td>Rice</td>\n",
       "      <td>Rice</td>\n",
       "      <td>supermarket</td>\n",
       "      <td>128,000.00</td>\n",
       "      <td>0</td>\n",
       "      <td>1</td>\n",
       "      <td>2018-07</td>\n",
       "      <td>Sunday</td>\n",
       "    </tr>\n",
       "    <tr>\n",
       "      <th>1</th>\n",
       "      <td>9446359</td>\n",
       "      <td>31885876</td>\n",
       "      <td>2018-07-15 16:17:00</td>\n",
       "      <td>Rice</td>\n",
       "      <td>Rice</td>\n",
       "      <td>minimarket</td>\n",
       "      <td>102,750.00</td>\n",
       "      <td>0</td>\n",
       "      <td>1</td>\n",
       "      <td>2018-07</td>\n",
       "      <td>Sunday</td>\n",
       "    </tr>\n",
       "  </tbody>\n",
       "</table>\n",
       "</div>"
      ],
      "text/plain": [
       "   receipt_id  receipts_item_id       purchase_time category sub_category  \\\n",
       "0     9622257          32369294 2018-07-22 21:19:00     Rice         Rice   \n",
       "1     9446359          31885876 2018-07-15 16:17:00     Rice         Rice   \n",
       "\n",
       "        format  unit_price  discount  quantity yearmonth weekday  \n",
       "0  supermarket  128,000.00         0         1   2018-07  Sunday  \n",
       "1   minimarket  102,750.00         0         1   2018-07  Sunday  "
      ]
     },
     "execution_count": 48,
     "metadata": {},
     "output_type": "execute_result"
    }
   ],
   "source": [
    "household.head(2)"
   ]
  },
  {
   "cell_type": "markdown",
   "metadata": {},
   "source": [
    "Tabel di atas adalah sebuah DataFrame `household` yang memuat informasi transaksi kebutuhan rumah tangga. Kolom `purchase_time` berisi informasi tanggal pembelian barang. Jika diketahui durasi pengiriman sebuah barang adalah 2 hari setelah barang dibeli, maka kita dapat menghitung estimasi barang sampai ke tangan pembeli dengan menggunakan *syntax* berikut:"
   ]
  },
  {
   "cell_type": "code",
   "execution_count": 49,
   "metadata": {
    "ExecuteTime": {
     "end_time": "2020-10-08T06:24:28.004058Z",
     "start_time": "2020-10-08T06:24:27.990084Z"
    }
   },
   "outputs": [
    {
     "data": {
      "text/html": [
       "<div>\n",
       "<style scoped>\n",
       "    .dataframe tbody tr th:only-of-type {\n",
       "        vertical-align: middle;\n",
       "    }\n",
       "\n",
       "    .dataframe tbody tr th {\n",
       "        vertical-align: top;\n",
       "    }\n",
       "\n",
       "    .dataframe thead th {\n",
       "        text-align: right;\n",
       "    }\n",
       "</style>\n",
       "<table border=\"1\" class=\"dataframe\">\n",
       "  <thead>\n",
       "    <tr style=\"text-align: right;\">\n",
       "      <th></th>\n",
       "      <th>receipt_id</th>\n",
       "      <th>receipts_item_id</th>\n",
       "      <th>purchase_time</th>\n",
       "      <th>category</th>\n",
       "      <th>sub_category</th>\n",
       "      <th>format</th>\n",
       "      <th>unit_price</th>\n",
       "      <th>discount</th>\n",
       "      <th>quantity</th>\n",
       "      <th>yearmonth</th>\n",
       "      <th>weekday</th>\n",
       "      <th>shipdate_est</th>\n",
       "    </tr>\n",
       "  </thead>\n",
       "  <tbody>\n",
       "    <tr>\n",
       "      <th>0</th>\n",
       "      <td>9622257</td>\n",
       "      <td>32369294</td>\n",
       "      <td>2018-07-22 21:19:00</td>\n",
       "      <td>Rice</td>\n",
       "      <td>Rice</td>\n",
       "      <td>supermarket</td>\n",
       "      <td>128,000.00</td>\n",
       "      <td>0</td>\n",
       "      <td>1</td>\n",
       "      <td>2018-07</td>\n",
       "      <td>Sunday</td>\n",
       "      <td>2018-07-24 21:19:00</td>\n",
       "    </tr>\n",
       "    <tr>\n",
       "      <th>1</th>\n",
       "      <td>9446359</td>\n",
       "      <td>31885876</td>\n",
       "      <td>2018-07-15 16:17:00</td>\n",
       "      <td>Rice</td>\n",
       "      <td>Rice</td>\n",
       "      <td>minimarket</td>\n",
       "      <td>102,750.00</td>\n",
       "      <td>0</td>\n",
       "      <td>1</td>\n",
       "      <td>2018-07</td>\n",
       "      <td>Sunday</td>\n",
       "      <td>2018-07-17 16:17:00</td>\n",
       "    </tr>\n",
       "  </tbody>\n",
       "</table>\n",
       "</div>"
      ],
      "text/plain": [
       "   receipt_id  receipts_item_id       purchase_time category sub_category  \\\n",
       "0     9622257          32369294 2018-07-22 21:19:00     Rice         Rice   \n",
       "1     9446359          31885876 2018-07-15 16:17:00     Rice         Rice   \n",
       "\n",
       "        format  unit_price  discount  quantity yearmonth weekday  \\\n",
       "0  supermarket  128,000.00         0         1   2018-07  Sunday   \n",
       "1   minimarket  102,750.00         0         1   2018-07  Sunday   \n",
       "\n",
       "         shipdate_est  \n",
       "0 2018-07-24 21:19:00  \n",
       "1 2018-07-17 16:17:00  "
      ]
     },
     "execution_count": 49,
     "metadata": {},
     "output_type": "execute_result"
    }
   ],
   "source": [
    "from datetime import timedelta\n",
    "household['shipdate_est'] = household['purchase_time'] + timedelta(days=2)\n",
    "household.head(2)"
   ]
  },
  {
   "cell_type": "markdown",
   "metadata": {},
   "source": [
    "### Apakah ekspresi dalam timedelta dapat dibuat lebih spesifik? Misalnya :(timedelta) 2 days 1 hours and 45 minutes?"
   ]
  },
  {
   "cell_type": "markdown",
   "metadata": {},
   "source": [
    "Ya bisa. Berikut adalah contohnya :"
   ]
  },
  {
   "cell_type": "code",
   "execution_count": 58,
   "metadata": {
    "ExecuteTime": {
     "end_time": "2020-10-08T07:49:05.111961Z",
     "start_time": "2020-10-08T07:49:05.084627Z"
    }
   },
   "outputs": [
    {
     "data": {
      "text/html": [
       "<div>\n",
       "<style scoped>\n",
       "    .dataframe tbody tr th:only-of-type {\n",
       "        vertical-align: middle;\n",
       "    }\n",
       "\n",
       "    .dataframe tbody tr th {\n",
       "        vertical-align: top;\n",
       "    }\n",
       "\n",
       "    .dataframe thead th {\n",
       "        text-align: right;\n",
       "    }\n",
       "</style>\n",
       "<table border=\"1\" class=\"dataframe\">\n",
       "  <thead>\n",
       "    <tr style=\"text-align: right;\">\n",
       "      <th></th>\n",
       "      <th>receipt_id</th>\n",
       "      <th>receipts_item_id</th>\n",
       "      <th>purchase_time</th>\n",
       "      <th>category</th>\n",
       "      <th>sub_category</th>\n",
       "      <th>format</th>\n",
       "      <th>unit_price</th>\n",
       "      <th>discount</th>\n",
       "      <th>quantity</th>\n",
       "      <th>yearmonth</th>\n",
       "      <th>weekday</th>\n",
       "      <th>shipdate_est</th>\n",
       "      <th>shipdate_est_new</th>\n",
       "    </tr>\n",
       "  </thead>\n",
       "  <tbody>\n",
       "    <tr>\n",
       "      <th>0</th>\n",
       "      <td>9622257</td>\n",
       "      <td>32369294</td>\n",
       "      <td>2018-07-22 21:19:00</td>\n",
       "      <td>Rice</td>\n",
       "      <td>Rice</td>\n",
       "      <td>supermarket</td>\n",
       "      <td>128,000.00</td>\n",
       "      <td>0</td>\n",
       "      <td>1</td>\n",
       "      <td>2018-07</td>\n",
       "      <td>Sunday</td>\n",
       "      <td>2018-07-24 21:19:00</td>\n",
       "      <td>2018-07-24 23:04:00</td>\n",
       "    </tr>\n",
       "    <tr>\n",
       "      <th>1</th>\n",
       "      <td>9446359</td>\n",
       "      <td>31885876</td>\n",
       "      <td>2018-07-15 16:17:00</td>\n",
       "      <td>Rice</td>\n",
       "      <td>Rice</td>\n",
       "      <td>minimarket</td>\n",
       "      <td>102,750.00</td>\n",
       "      <td>0</td>\n",
       "      <td>1</td>\n",
       "      <td>2018-07</td>\n",
       "      <td>Sunday</td>\n",
       "      <td>2018-07-17 16:17:00</td>\n",
       "      <td>2018-07-17 18:02:00</td>\n",
       "    </tr>\n",
       "  </tbody>\n",
       "</table>\n",
       "</div>"
      ],
      "text/plain": [
       "   receipt_id  receipts_item_id       purchase_time category sub_category  \\\n",
       "0     9622257          32369294 2018-07-22 21:19:00     Rice         Rice   \n",
       "1     9446359          31885876 2018-07-15 16:17:00     Rice         Rice   \n",
       "\n",
       "        format  unit_price  discount  quantity yearmonth weekday  \\\n",
       "0  supermarket  128,000.00         0         1   2018-07  Sunday   \n",
       "1   minimarket  102,750.00         0         1   2018-07  Sunday   \n",
       "\n",
       "         shipdate_est    shipdate_est_new  \n",
       "0 2018-07-24 21:19:00 2018-07-24 23:04:00  \n",
       "1 2018-07-17 16:17:00 2018-07-17 18:02:00  "
      ]
     },
     "execution_count": 58,
     "metadata": {},
     "output_type": "execute_result"
    }
   ],
   "source": [
    "household['shipdate_est_new'] = household['purchase_time'] + timedelta(days=2, hours=1, minutes=45)\n",
    "household.head(2)"
   ]
  },
  {
   "cell_type": "markdown",
   "metadata": {},
   "source": [
    "### Ketika menggunakan perintah `dt.to_period('W')`, maka secara otomatis rentang *week* yang ditampilkan selalu dimulai dari hari Senin. Apakah ada cara untuk menampilkan rentang *week* yang dimulai dari hari Minggu"
   ]
  },
  {
   "cell_type": "code",
   "execution_count": 50,
   "metadata": {
    "ExecuteTime": {
     "end_time": "2020-10-08T06:24:28.018102Z",
     "start_time": "2020-10-08T06:24:28.007115Z"
    }
   },
   "outputs": [],
   "source": [
    "household['purchase_time'] = household['purchase_time'].astype('datetime64')"
   ]
  },
  {
   "cell_type": "markdown",
   "metadata": {},
   "source": [
    "Apabila ingin menampilkan rentang *week* yang dimulai dari hari Minggu, maka dapat dituliskan syntax sebagai berikut :"
   ]
  },
  {
   "cell_type": "code",
   "execution_count": 56,
   "metadata": {
    "ExecuteTime": {
     "end_time": "2020-10-08T07:32:53.382490Z",
     "start_time": "2020-10-08T07:32:53.340082Z"
    }
   },
   "outputs": [
    {
     "data": {
      "text/plain": [
       "0        2018-07-22/2018-07-28\n",
       "1        2018-07-15/2018-07-21\n",
       "2        2018-07-15/2018-07-21\n",
       "3        2018-07-22/2018-07-28\n",
       "4        2018-07-22/2018-07-28\n",
       "                 ...          \n",
       "71995    2017-12-24/2017-12-30\n",
       "71996    2017-12-10/2017-12-16\n",
       "71997    2017-12-24/2017-12-30\n",
       "71998    2017-12-03/2017-12-09\n",
       "71999    2017-12-17/2017-12-23\n",
       "Name: purchase_time, Length: 72000, dtype: period[W-SAT]"
      ]
     },
     "execution_count": 56,
     "metadata": {},
     "output_type": "execute_result"
    }
   ],
   "source": [
    "household['purchase_time'].dt.to_period('W-SAT')"
   ]
  },
  {
   "cell_type": "markdown",
   "metadata": {},
   "source": [
    "### Bagaimana cara mengubah nama hari atau bulan kedalam format Bahasa Indonesia?"
   ]
  },
  {
   "cell_type": "markdown",
   "metadata": {},
   "source": [
    "Cara terbaik untuk mengubah nama hari/bulan kedalam Bahasa adalah dengan mengubah *locale time* terlebih dahulu, kemudian gunakan *method* `strftime()` untuk mengekstrak nama hari/bulannya"
   ]
  },
  {
   "cell_type": "code",
   "execution_count": 55,
   "metadata": {
    "ExecuteTime": {
     "end_time": "2020-10-08T06:29:33.863048Z",
     "start_time": "2020-10-08T06:29:33.509878Z"
    }
   },
   "outputs": [
    {
     "data": {
      "text/plain": [
       "0        Minggu\n",
       "1        Minggu\n",
       "2        Minggu\n",
       "3        Selasa\n",
       "4         Kamis\n",
       "          ...  \n",
       "71995      Rabu\n",
       "71996      Rabu\n",
       "71997      Rabu\n",
       "71998     Kamis\n",
       "71999    Selasa\n",
       "Name: purchase_time, Length: 72000, dtype: object"
      ]
     },
     "execution_count": 55,
     "metadata": {},
     "output_type": "execute_result"
    }
   ],
   "source": [
    "import locale\n",
    "locale.setlocale(locale.LC_TIME, \"id\")\n",
    "\n",
    "household['purchase_time'].dt.strftime(\"%A\")"
   ]
  },
  {
   "cell_type": "markdown",
   "metadata": {},
   "source": [
    "## Category"
   ]
  },
  {
   "cell_type": "markdown",
   "metadata": {},
   "source": [
    "### Bagaimana cara mengetahui level pada category?"
   ]
  },
  {
   "cell_type": "markdown",
   "metadata": {},
   "source": [
    "Cara mengetahui level pada category dapat menggunakan attribut `cat.categories` atau dapat menggunakan *method* `unique()`.\n",
    "Berikut adalah contoh implementasinya :"
   ]
  },
  {
   "cell_type": "code",
   "execution_count": 60,
   "metadata": {
    "ExecuteTime": {
     "end_time": "2020-10-08T09:19:37.552122Z",
     "start_time": "2020-10-08T09:19:37.483521Z"
    }
   },
   "outputs": [],
   "source": [
    "household[['category','sub_category','format','yearmonth','weekday']] = \\\n",
    "household[['category','sub_category','format','yearmonth','weekday']].\\\n",
    "astype('category')"
   ]
  },
  {
   "cell_type": "code",
   "execution_count": 61,
   "metadata": {
    "ExecuteTime": {
     "end_time": "2020-10-08T09:19:39.638854Z",
     "start_time": "2020-10-08T09:19:39.627897Z"
    }
   },
   "outputs": [
    {
     "data": {
      "text/plain": [
       "Index(['hypermarket', 'minimarket', 'supermarket'], dtype='object')"
      ]
     },
     "execution_count": 61,
     "metadata": {},
     "output_type": "execute_result"
    }
   ],
   "source": [
    "household['format'].cat.categories"
   ]
  },
  {
   "cell_type": "code",
   "execution_count": 62,
   "metadata": {
    "ExecuteTime": {
     "end_time": "2020-10-08T09:19:41.804598Z",
     "start_time": "2020-10-08T09:19:41.783313Z"
    }
   },
   "outputs": [
    {
     "data": {
      "text/plain": [
       "['supermarket', 'minimarket', 'hypermarket']\n",
       "Categories (3, object): ['supermarket', 'minimarket', 'hypermarket']"
      ]
     },
     "execution_count": 62,
     "metadata": {},
     "output_type": "execute_result"
    }
   ],
   "source": [
    "household['format'].unique()"
   ]
  },
  {
   "cell_type": "markdown",
   "metadata": {},
   "source": [
    "**Apa yang membedakan `cat.categories` dengan `unique()`**"
   ]
  },
  {
   "cell_type": "markdown",
   "metadata": {},
   "source": [
    "`cat.categories` adalah atribut milik tipe data categorical, sehingga tidak dapat digunakan di luar tipe data categorical. Sedangkan `unique()` adalah *method* yang dimiliki oleh `pandas` sehingga dapat digunakan dengan lebih fleksible sesuai dengan kebutuhan."
   ]
  },
  {
   "cell_type": "markdown",
   "metadata": {},
   "source": [
    "## Contingency Table"
   ]
  },
  {
   "cell_type": "markdown",
   "metadata": {},
   "source": [
    "### Apakah parameter `aggfunc` pada crosstab dapat menampilkan lebih dari satu fungsi aggregasi?"
   ]
  },
  {
   "cell_type": "markdown",
   "metadata": {},
   "source": [
    "Bisa. Parameter `aggfunc` dapat menampilkan lebih dari satu fungsi aggregasi. Berikut di bawah ini adalah contoh implementasi menampilkan tabulasi silang pada data menggunakan aggregasi `mean` dan `sum` :"
   ]
  },
  {
   "cell_type": "code",
   "execution_count": 63,
   "metadata": {
    "ExecuteTime": {
     "end_time": "2020-10-08T09:19:48.632739Z",
     "start_time": "2020-10-08T09:19:48.595662Z"
    }
   },
   "outputs": [
    {
     "data": {
      "text/html": [
       "<div>\n",
       "<style scoped>\n",
       "    .dataframe tbody tr th:only-of-type {\n",
       "        vertical-align: middle;\n",
       "    }\n",
       "\n",
       "    .dataframe tbody tr th {\n",
       "        vertical-align: top;\n",
       "    }\n",
       "\n",
       "    .dataframe thead th {\n",
       "        text-align: right;\n",
       "    }\n",
       "</style>\n",
       "<table border=\"1\" class=\"dataframe\">\n",
       "  <thead>\n",
       "    <tr style=\"text-align: right;\">\n",
       "      <th>format</th>\n",
       "      <th>hypermarket</th>\n",
       "      <th>minimarket</th>\n",
       "      <th>supermarket</th>\n",
       "    </tr>\n",
       "    <tr>\n",
       "      <th>category</th>\n",
       "      <th></th>\n",
       "      <th></th>\n",
       "      <th></th>\n",
       "    </tr>\n",
       "  </thead>\n",
       "  <tbody>\n",
       "    <tr>\n",
       "      <th>Fabric Care</th>\n",
       "      <td>19,328.14</td>\n",
       "      <td>17,757.14</td>\n",
       "      <td>17,847.56</td>\n",
       "    </tr>\n",
       "    <tr>\n",
       "      <th>Rice</th>\n",
       "      <td>71,205.46</td>\n",
       "      <td>67,135.57</td>\n",
       "      <td>74,921.18</td>\n",
       "    </tr>\n",
       "    <tr>\n",
       "      <th>Sugar/Flavored Syrup</th>\n",
       "      <td>13,539.92</td>\n",
       "      <td>12,352.14</td>\n",
       "      <td>13,071.11</td>\n",
       "    </tr>\n",
       "  </tbody>\n",
       "</table>\n",
       "</div>"
      ],
      "text/plain": [
       "format                hypermarket  minimarket  supermarket\n",
       "category                                                  \n",
       "Fabric Care             19,328.14   17,757.14    17,847.56\n",
       "Rice                    71,205.46   67,135.57    74,921.18\n",
       "Sugar/Flavored Syrup    13,539.92   12,352.14    13,071.11"
      ]
     },
     "execution_count": 63,
     "metadata": {},
     "output_type": "execute_result"
    }
   ],
   "source": [
    "pd.crosstab(\n",
    "    index=household['category'],\n",
    "    columns=household['format'],\n",
    "    values=household['unit_price'],\n",
    "    aggfunc='mean'\n",
    ")"
   ]
  },
  {
   "cell_type": "markdown",
   "metadata": {},
   "source": [
    "### Apa kegunaan parameter margins=True pada method `pd.crosstab`?"
   ]
  },
  {
   "cell_type": "markdown",
   "metadata": {},
   "source": [
    "margins=True pada crosstab digunakan untuk menjumlahkan hasil cross tabulasi, sehingga ada kolom tambahan dengan nama kolom “All” yang berisi total nilai"
   ]
  },
  {
   "cell_type": "code",
   "execution_count": 64,
   "metadata": {
    "ExecuteTime": {
     "end_time": "2020-10-08T09:19:52.309734Z",
     "start_time": "2020-10-08T09:19:52.239149Z"
    }
   },
   "outputs": [
    {
     "data": {
      "text/html": [
       "<div>\n",
       "<style scoped>\n",
       "    .dataframe tbody tr th:only-of-type {\n",
       "        vertical-align: middle;\n",
       "    }\n",
       "\n",
       "    .dataframe tbody tr th {\n",
       "        vertical-align: top;\n",
       "    }\n",
       "\n",
       "    .dataframe thead th {\n",
       "        text-align: right;\n",
       "    }\n",
       "</style>\n",
       "<table border=\"1\" class=\"dataframe\">\n",
       "  <thead>\n",
       "    <tr style=\"text-align: right;\">\n",
       "      <th>format</th>\n",
       "      <th>hypermarket</th>\n",
       "      <th>minimarket</th>\n",
       "      <th>supermarket</th>\n",
       "      <th>All</th>\n",
       "    </tr>\n",
       "    <tr>\n",
       "      <th>category</th>\n",
       "      <th></th>\n",
       "      <th></th>\n",
       "      <th></th>\n",
       "      <th></th>\n",
       "    </tr>\n",
       "  </thead>\n",
       "  <tbody>\n",
       "    <tr>\n",
       "      <th>Fabric Care</th>\n",
       "      <td>19,328.14</td>\n",
       "      <td>17,757.14</td>\n",
       "      <td>17,847.56</td>\n",
       "      <td>17,893.79</td>\n",
       "    </tr>\n",
       "    <tr>\n",
       "      <th>Rice</th>\n",
       "      <td>71,205.46</td>\n",
       "      <td>67,135.57</td>\n",
       "      <td>74,921.18</td>\n",
       "      <td>70,013.15</td>\n",
       "    </tr>\n",
       "    <tr>\n",
       "      <th>Sugar/Flavored Syrup</th>\n",
       "      <td>13,539.92</td>\n",
       "      <td>12,352.14</td>\n",
       "      <td>13,071.11</td>\n",
       "      <td>12,645.07</td>\n",
       "    </tr>\n",
       "    <tr>\n",
       "      <th>All</th>\n",
       "      <td>27,079.47</td>\n",
       "      <td>23,460.18</td>\n",
       "      <td>27,457.15</td>\n",
       "      <td>24,830.78</td>\n",
       "    </tr>\n",
       "  </tbody>\n",
       "</table>\n",
       "</div>"
      ],
      "text/plain": [
       "format                hypermarket  minimarket  supermarket       All\n",
       "category                                                            \n",
       "Fabric Care             19,328.14   17,757.14    17,847.56 17,893.79\n",
       "Rice                    71,205.46   67,135.57    74,921.18 70,013.15\n",
       "Sugar/Flavored Syrup    13,539.92   12,352.14    13,071.11 12,645.07\n",
       "All                     27,079.47   23,460.18    27,457.15 24,830.78"
      ]
     },
     "execution_count": 64,
     "metadata": {},
     "output_type": "execute_result"
    }
   ],
   "source": [
    "pd.crosstab(\n",
    "    index=household['category'],\n",
    "    columns=household['format'],\n",
    "    values=household['unit_price'],\n",
    "    aggfunc='mean',\n",
    "    margins=True\n",
    ")"
   ]
  },
  {
   "cell_type": "markdown",
   "metadata": {},
   "source": [
    "### Apakah kita dapat melakukan `sort_values()` pada kolom `All` saat parameter `margins=True`?"
   ]
  },
  {
   "cell_type": "markdown",
   "metadata": {},
   "source": [
    "Bisa. Dengan catatan yang dapat di *sorting* adalah nilai `All` pada kolomnya, bukan nilai `All` pada barisnya. "
   ]
  },
  {
   "cell_type": "markdown",
   "metadata": {},
   "source": [
    "## Missing Values"
   ]
  },
  {
   "cell_type": "markdown",
   "metadata": {},
   "source": [
    "### Bagaimana menampilkan data yang memiliki missing values saja?"
   ]
  },
  {
   "cell_type": "code",
   "execution_count": 65,
   "metadata": {
    "ExecuteTime": {
     "end_time": "2020-10-08T09:20:01.022786Z",
     "start_time": "2020-10-08T09:19:55.880882Z"
    }
   },
   "outputs": [],
   "source": [
    "household = pd.read_csv(\"data_input/household.csv\", index_col=1, parse_dates=['purchase_time'])\n",
    "household.drop(['receipt_id', 'yearmonth', 'sub_category'], axis=1, inplace=True)\n",
    "household['weekday'] = household['purchase_time'].dt.day_name()\n",
    "import math\n",
    "x=[i for i in range(32000000, 32000005)]\n",
    "x.insert(2,32030785)\n",
    "household2 = household.head(6).copy()\n",
    "household2 = household2.reindex(x)\n",
    "household2 = pd.concat([household2, household.head(14)])\n",
    "household2.loc[31885876, \"weekday\"] = math.nan\n",
    "# household2.iloc[2:8,]"
   ]
  },
  {
   "cell_type": "markdown",
   "metadata": {},
   "source": [
    "Di bawah ini adalah contoh sebuah DataFrame yang memiliki beberapa *missing values* didalamnya. "
   ]
  },
  {
   "cell_type": "code",
   "execution_count": 66,
   "metadata": {
    "ExecuteTime": {
     "end_time": "2020-10-08T09:20:01.054198Z",
     "start_time": "2020-10-08T09:20:01.026184Z"
    },
    "scrolled": false
   },
   "outputs": [
    {
     "data": {
      "text/html": [
       "<div>\n",
       "<style scoped>\n",
       "    .dataframe tbody tr th:only-of-type {\n",
       "        vertical-align: middle;\n",
       "    }\n",
       "\n",
       "    .dataframe tbody tr th {\n",
       "        vertical-align: top;\n",
       "    }\n",
       "\n",
       "    .dataframe thead th {\n",
       "        text-align: right;\n",
       "    }\n",
       "</style>\n",
       "<table border=\"1\" class=\"dataframe\">\n",
       "  <thead>\n",
       "    <tr style=\"text-align: right;\">\n",
       "      <th></th>\n",
       "      <th>purchase_time</th>\n",
       "      <th>category</th>\n",
       "      <th>format</th>\n",
       "      <th>unit_price</th>\n",
       "      <th>discount</th>\n",
       "      <th>quantity</th>\n",
       "      <th>weekday</th>\n",
       "    </tr>\n",
       "    <tr>\n",
       "      <th>receipts_item_id</th>\n",
       "      <th></th>\n",
       "      <th></th>\n",
       "      <th></th>\n",
       "      <th></th>\n",
       "      <th></th>\n",
       "      <th></th>\n",
       "      <th></th>\n",
       "    </tr>\n",
       "  </thead>\n",
       "  <tbody>\n",
       "    <tr>\n",
       "      <th>32000000</th>\n",
       "      <td>NaT</td>\n",
       "      <td>NaN</td>\n",
       "      <td>NaN</td>\n",
       "      <td>nan</td>\n",
       "      <td>nan</td>\n",
       "      <td>nan</td>\n",
       "      <td>NaN</td>\n",
       "    </tr>\n",
       "    <tr>\n",
       "      <th>32000001</th>\n",
       "      <td>NaT</td>\n",
       "      <td>NaN</td>\n",
       "      <td>NaN</td>\n",
       "      <td>nan</td>\n",
       "      <td>nan</td>\n",
       "      <td>nan</td>\n",
       "      <td>NaN</td>\n",
       "    </tr>\n",
       "    <tr>\n",
       "      <th>32030785</th>\n",
       "      <td>2018-07-17 18:05:00</td>\n",
       "      <td>Rice</td>\n",
       "      <td>minimarket</td>\n",
       "      <td>63,500.00</td>\n",
       "      <td>0.00</td>\n",
       "      <td>1.00</td>\n",
       "      <td>Tuesday</td>\n",
       "    </tr>\n",
       "    <tr>\n",
       "      <th>32000002</th>\n",
       "      <td>NaT</td>\n",
       "      <td>NaN</td>\n",
       "      <td>NaN</td>\n",
       "      <td>nan</td>\n",
       "      <td>nan</td>\n",
       "      <td>nan</td>\n",
       "      <td>NaN</td>\n",
       "    </tr>\n",
       "    <tr>\n",
       "      <th>32000003</th>\n",
       "      <td>NaT</td>\n",
       "      <td>NaN</td>\n",
       "      <td>NaN</td>\n",
       "      <td>nan</td>\n",
       "      <td>nan</td>\n",
       "      <td>nan</td>\n",
       "      <td>NaN</td>\n",
       "    </tr>\n",
       "    <tr>\n",
       "      <th>32000004</th>\n",
       "      <td>NaT</td>\n",
       "      <td>NaN</td>\n",
       "      <td>NaN</td>\n",
       "      <td>nan</td>\n",
       "      <td>nan</td>\n",
       "      <td>nan</td>\n",
       "      <td>NaN</td>\n",
       "    </tr>\n",
       "    <tr>\n",
       "      <th>32369294</th>\n",
       "      <td>2018-07-22 21:19:00</td>\n",
       "      <td>Rice</td>\n",
       "      <td>supermarket</td>\n",
       "      <td>128,000.00</td>\n",
       "      <td>0.00</td>\n",
       "      <td>1.00</td>\n",
       "      <td>Sunday</td>\n",
       "    </tr>\n",
       "    <tr>\n",
       "      <th>31885876</th>\n",
       "      <td>2018-07-15 16:17:00</td>\n",
       "      <td>Rice</td>\n",
       "      <td>minimarket</td>\n",
       "      <td>102,750.00</td>\n",
       "      <td>0.00</td>\n",
       "      <td>1.00</td>\n",
       "      <td>NaN</td>\n",
       "    </tr>\n",
       "    <tr>\n",
       "      <th>31930241</th>\n",
       "      <td>2018-07-15 12:12:00</td>\n",
       "      <td>Rice</td>\n",
       "      <td>supermarket</td>\n",
       "      <td>64,000.00</td>\n",
       "      <td>0.00</td>\n",
       "      <td>3.00</td>\n",
       "      <td>Sunday</td>\n",
       "    </tr>\n",
       "    <tr>\n",
       "      <th>32418582</th>\n",
       "      <td>2018-07-24 08:27:00</td>\n",
       "      <td>Rice</td>\n",
       "      <td>minimarket</td>\n",
       "      <td>65,000.00</td>\n",
       "      <td>0.00</td>\n",
       "      <td>1.00</td>\n",
       "      <td>Tuesday</td>\n",
       "    </tr>\n",
       "    <tr>\n",
       "      <th>32561236</th>\n",
       "      <td>2018-07-26 11:28:00</td>\n",
       "      <td>Rice</td>\n",
       "      <td>supermarket</td>\n",
       "      <td>124,500.00</td>\n",
       "      <td>0.00</td>\n",
       "      <td>1.00</td>\n",
       "      <td>Thursday</td>\n",
       "    </tr>\n",
       "    <tr>\n",
       "      <th>32030785</th>\n",
       "      <td>2018-07-17 18:05:00</td>\n",
       "      <td>Rice</td>\n",
       "      <td>minimarket</td>\n",
       "      <td>63,500.00</td>\n",
       "      <td>0.00</td>\n",
       "      <td>1.00</td>\n",
       "      <td>Tuesday</td>\n",
       "    </tr>\n",
       "    <tr>\n",
       "      <th>32935097</th>\n",
       "      <td>2018-07-29 18:18:00</td>\n",
       "      <td>Rice</td>\n",
       "      <td>supermarket</td>\n",
       "      <td>66,500.00</td>\n",
       "      <td>0.00</td>\n",
       "      <td>1.00</td>\n",
       "      <td>Sunday</td>\n",
       "    </tr>\n",
       "    <tr>\n",
       "      <th>32593606</th>\n",
       "      <td>2018-07-25 12:48:00</td>\n",
       "      <td>Rice</td>\n",
       "      <td>minimarket</td>\n",
       "      <td>62,500.00</td>\n",
       "      <td>0.00</td>\n",
       "      <td>1.00</td>\n",
       "      <td>Wednesday</td>\n",
       "    </tr>\n",
       "    <tr>\n",
       "      <th>32573843</th>\n",
       "      <td>2018-07-26 16:41:00</td>\n",
       "      <td>Rice</td>\n",
       "      <td>minimarket</td>\n",
       "      <td>62,500.00</td>\n",
       "      <td>0.00</td>\n",
       "      <td>1.00</td>\n",
       "      <td>Thursday</td>\n",
       "    </tr>\n",
       "    <tr>\n",
       "      <th>31913062</th>\n",
       "      <td>2018-07-14 21:17:00</td>\n",
       "      <td>Rice</td>\n",
       "      <td>supermarket</td>\n",
       "      <td>64,000.00</td>\n",
       "      <td>0.00</td>\n",
       "      <td>3.00</td>\n",
       "      <td>Saturday</td>\n",
       "    </tr>\n",
       "    <tr>\n",
       "      <th>31125365</th>\n",
       "      <td>2018-07-02 15:39:00</td>\n",
       "      <td>Rice</td>\n",
       "      <td>minimarket</td>\n",
       "      <td>112,500.00</td>\n",
       "      <td>0.00</td>\n",
       "      <td>1.00</td>\n",
       "      <td>Monday</td>\n",
       "    </tr>\n",
       "    <tr>\n",
       "      <th>32856560</th>\n",
       "      <td>2018-07-31 05:51:00</td>\n",
       "      <td>Rice</td>\n",
       "      <td>hypermarket</td>\n",
       "      <td>77,750.00</td>\n",
       "      <td>0.00</td>\n",
       "      <td>1.00</td>\n",
       "      <td>Tuesday</td>\n",
       "    </tr>\n",
       "    <tr>\n",
       "      <th>32552145</th>\n",
       "      <td>2018-07-26 11:43:00</td>\n",
       "      <td>Rice</td>\n",
       "      <td>minimarket</td>\n",
       "      <td>66,500.00</td>\n",
       "      <td>0.00</td>\n",
       "      <td>1.00</td>\n",
       "      <td>Thursday</td>\n",
       "    </tr>\n",
       "    <tr>\n",
       "      <th>32369065</th>\n",
       "      <td>2018-07-23 14:22:00</td>\n",
       "      <td>Rice</td>\n",
       "      <td>minimarket</td>\n",
       "      <td>62,900.00</td>\n",
       "      <td>0.00</td>\n",
       "      <td>1.00</td>\n",
       "      <td>Monday</td>\n",
       "    </tr>\n",
       "  </tbody>\n",
       "</table>\n",
       "</div>"
      ],
      "text/plain": [
       "                       purchase_time category       format  unit_price  \\\n",
       "receipts_item_id                                                         \n",
       "32000000                         NaT      NaN          NaN         nan   \n",
       "32000001                         NaT      NaN          NaN         nan   \n",
       "32030785         2018-07-17 18:05:00     Rice   minimarket   63,500.00   \n",
       "32000002                         NaT      NaN          NaN         nan   \n",
       "32000003                         NaT      NaN          NaN         nan   \n",
       "32000004                         NaT      NaN          NaN         nan   \n",
       "32369294         2018-07-22 21:19:00     Rice  supermarket  128,000.00   \n",
       "31885876         2018-07-15 16:17:00     Rice   minimarket  102,750.00   \n",
       "31930241         2018-07-15 12:12:00     Rice  supermarket   64,000.00   \n",
       "32418582         2018-07-24 08:27:00     Rice   minimarket   65,000.00   \n",
       "32561236         2018-07-26 11:28:00     Rice  supermarket  124,500.00   \n",
       "32030785         2018-07-17 18:05:00     Rice   minimarket   63,500.00   \n",
       "32935097         2018-07-29 18:18:00     Rice  supermarket   66,500.00   \n",
       "32593606         2018-07-25 12:48:00     Rice   minimarket   62,500.00   \n",
       "32573843         2018-07-26 16:41:00     Rice   minimarket   62,500.00   \n",
       "31913062         2018-07-14 21:17:00     Rice  supermarket   64,000.00   \n",
       "31125365         2018-07-02 15:39:00     Rice   minimarket  112,500.00   \n",
       "32856560         2018-07-31 05:51:00     Rice  hypermarket   77,750.00   \n",
       "32552145         2018-07-26 11:43:00     Rice   minimarket   66,500.00   \n",
       "32369065         2018-07-23 14:22:00     Rice   minimarket   62,900.00   \n",
       "\n",
       "                  discount  quantity    weekday  \n",
       "receipts_item_id                                 \n",
       "32000000               nan       nan        NaN  \n",
       "32000001               nan       nan        NaN  \n",
       "32030785              0.00      1.00    Tuesday  \n",
       "32000002               nan       nan        NaN  \n",
       "32000003               nan       nan        NaN  \n",
       "32000004               nan       nan        NaN  \n",
       "32369294              0.00      1.00     Sunday  \n",
       "31885876              0.00      1.00        NaN  \n",
       "31930241              0.00      3.00     Sunday  \n",
       "32418582              0.00      1.00    Tuesday  \n",
       "32561236              0.00      1.00   Thursday  \n",
       "32030785              0.00      1.00    Tuesday  \n",
       "32935097              0.00      1.00     Sunday  \n",
       "32593606              0.00      1.00  Wednesday  \n",
       "32573843              0.00      1.00   Thursday  \n",
       "31913062              0.00      3.00   Saturday  \n",
       "31125365              0.00      1.00     Monday  \n",
       "32856560              0.00      1.00    Tuesday  \n",
       "32552145              0.00      1.00   Thursday  \n",
       "32369065              0.00      1.00     Monday  "
      ]
     },
     "execution_count": 66,
     "metadata": {},
     "output_type": "execute_result"
    }
   ],
   "source": [
    "household2"
   ]
  },
  {
   "cell_type": "markdown",
   "metadata": {},
   "source": [
    "Berikut adalah kode program untuk menampilkan data yang memiliki *missing values* saja.\n",
    "`isna()` digunakan untuk melakukan pengecekan *missing values*, `.any(axis = 1)` mengecek apakah terdapat *missing values* pada kolom (yang diwakili dengan `axis=1`)."
   ]
  },
  {
   "cell_type": "code",
   "execution_count": 67,
   "metadata": {
    "ExecuteTime": {
     "end_time": "2020-10-08T09:20:01.069689Z",
     "start_time": "2020-10-08T09:20:01.056486Z"
    }
   },
   "outputs": [
    {
     "data": {
      "text/html": [
       "<div>\n",
       "<style scoped>\n",
       "    .dataframe tbody tr th:only-of-type {\n",
       "        vertical-align: middle;\n",
       "    }\n",
       "\n",
       "    .dataframe tbody tr th {\n",
       "        vertical-align: top;\n",
       "    }\n",
       "\n",
       "    .dataframe thead th {\n",
       "        text-align: right;\n",
       "    }\n",
       "</style>\n",
       "<table border=\"1\" class=\"dataframe\">\n",
       "  <thead>\n",
       "    <tr style=\"text-align: right;\">\n",
       "      <th></th>\n",
       "      <th>purchase_time</th>\n",
       "      <th>category</th>\n",
       "      <th>format</th>\n",
       "      <th>unit_price</th>\n",
       "      <th>discount</th>\n",
       "      <th>quantity</th>\n",
       "      <th>weekday</th>\n",
       "    </tr>\n",
       "    <tr>\n",
       "      <th>receipts_item_id</th>\n",
       "      <th></th>\n",
       "      <th></th>\n",
       "      <th></th>\n",
       "      <th></th>\n",
       "      <th></th>\n",
       "      <th></th>\n",
       "      <th></th>\n",
       "    </tr>\n",
       "  </thead>\n",
       "  <tbody>\n",
       "    <tr>\n",
       "      <th>32000000</th>\n",
       "      <td>NaT</td>\n",
       "      <td>NaN</td>\n",
       "      <td>NaN</td>\n",
       "      <td>nan</td>\n",
       "      <td>nan</td>\n",
       "      <td>nan</td>\n",
       "      <td>NaN</td>\n",
       "    </tr>\n",
       "    <tr>\n",
       "      <th>32000001</th>\n",
       "      <td>NaT</td>\n",
       "      <td>NaN</td>\n",
       "      <td>NaN</td>\n",
       "      <td>nan</td>\n",
       "      <td>nan</td>\n",
       "      <td>nan</td>\n",
       "      <td>NaN</td>\n",
       "    </tr>\n",
       "    <tr>\n",
       "      <th>32000002</th>\n",
       "      <td>NaT</td>\n",
       "      <td>NaN</td>\n",
       "      <td>NaN</td>\n",
       "      <td>nan</td>\n",
       "      <td>nan</td>\n",
       "      <td>nan</td>\n",
       "      <td>NaN</td>\n",
       "    </tr>\n",
       "    <tr>\n",
       "      <th>32000003</th>\n",
       "      <td>NaT</td>\n",
       "      <td>NaN</td>\n",
       "      <td>NaN</td>\n",
       "      <td>nan</td>\n",
       "      <td>nan</td>\n",
       "      <td>nan</td>\n",
       "      <td>NaN</td>\n",
       "    </tr>\n",
       "    <tr>\n",
       "      <th>32000004</th>\n",
       "      <td>NaT</td>\n",
       "      <td>NaN</td>\n",
       "      <td>NaN</td>\n",
       "      <td>nan</td>\n",
       "      <td>nan</td>\n",
       "      <td>nan</td>\n",
       "      <td>NaN</td>\n",
       "    </tr>\n",
       "    <tr>\n",
       "      <th>31885876</th>\n",
       "      <td>2018-07-15 16:17:00</td>\n",
       "      <td>Rice</td>\n",
       "      <td>minimarket</td>\n",
       "      <td>102,750.00</td>\n",
       "      <td>0.00</td>\n",
       "      <td>1.00</td>\n",
       "      <td>NaN</td>\n",
       "    </tr>\n",
       "  </tbody>\n",
       "</table>\n",
       "</div>"
      ],
      "text/plain": [
       "                       purchase_time category      format  unit_price  \\\n",
       "receipts_item_id                                                        \n",
       "32000000                         NaT      NaN         NaN         nan   \n",
       "32000001                         NaT      NaN         NaN         nan   \n",
       "32000002                         NaT      NaN         NaN         nan   \n",
       "32000003                         NaT      NaN         NaN         nan   \n",
       "32000004                         NaT      NaN         NaN         nan   \n",
       "31885876         2018-07-15 16:17:00     Rice  minimarket  102,750.00   \n",
       "\n",
       "                  discount  quantity weekday  \n",
       "receipts_item_id                              \n",
       "32000000               nan       nan     NaN  \n",
       "32000001               nan       nan     NaN  \n",
       "32000002               nan       nan     NaN  \n",
       "32000003               nan       nan     NaN  \n",
       "32000004               nan       nan     NaN  \n",
       "31885876              0.00      1.00     NaN  "
      ]
     },
     "execution_count": 67,
     "metadata": {},
     "output_type": "execute_result"
    }
   ],
   "source": [
    "household2[household2.isna().any(axis = 1)]"
   ]
  },
  {
   "cell_type": "markdown",
   "metadata": {},
   "source": [
    "### Bagaimana cara menangani *missing values* pada data?"
   ]
  },
  {
   "cell_type": "markdown",
   "metadata": {},
   "source": [
    "Terdapat berbagai cara menangani data yang mengandung *missing value*. Cara yang paling sering digunakan untuk menangani data yang mengandung *missing value*, yaitu *deletion*, *full analysis*, dan *imputation*."
   ]
  },
  {
   "cell_type": "markdown",
   "metadata": {},
   "source": [
    "**a. Deletion**\n",
    "\n",
    "Deletion adalah membuang variabel/kolom pada data yang memiliki jumlah *missing value* (NA) melebihi 50% dari jumlah observasi. Hal ini menganggap bahwa variabel tersebut tidak banyak memberikan informasi pada data (variansinya mendekati 0). Ketika membuang variabel perlu memperhatikan business case dari data tersebut, apakah variabel yang dibuang akan menghilangkan informasi yang cukup signfikan atau tidak? Apakah ketika variabel tersebut dibuang ada informasi yang berkurang dari data tersebut atau tidak?"
   ]
  },
  {
   "cell_type": "markdown",
   "metadata": {},
   "source": [
    "**b. Full analysis**\n",
    "Full analysis adalah membuang observasi/baris yang mengandung *missing value*. Cara ini dilakukan jika jumlah observasi yang mengandung *missing value* NA tidak melebihi 5% dari total observasi data."
   ]
  },
  {
   "cell_type": "markdown",
   "metadata": {},
   "source": [
    "**c. Imputation**\n",
    "\n",
    "Jika jumlah missing value pada data cukup banyak (melebihi 5% jumlah observasi), kita dapat melakukan imputation yaitu mengisi missing value tersebut dengan suatu nilai tertentu. Biasanya imputation dilakukan bedasarkan business knowledge dari variabel tersebut, misalkan variabel jumlah pengunjung per jam pada sebuah restoran. Seharusnya terdapat jumlah visitor yang bernilai 0 pada jam-jam tertentu karena pasti terdapat kemungkinan pada jam-jam tertentu tidak terdapat pengunjung. Tetapi, jika secara business knowledge seharusnya observasi tersebut memiliki suatu nilai, kita bisa melakukan imputation dengan menggunakan pusat datanya seperti mean/median untuk variabel numerik dan modus untuk variabel kategorik."
   ]
  }
 ],
 "metadata": {
  "kernelspec": {
   "display_name": "dataanalytics",
   "language": "python",
   "name": "dataanalytics"
  },
  "language_info": {
   "codemirror_mode": {
    "name": "ipython",
    "version": 3
   },
   "file_extension": ".py",
   "mimetype": "text/x-python",
   "name": "python",
   "nbconvert_exporter": "python",
   "pygments_lexer": "ipython3",
   "version": "3.8.5"
  },
  "toc": {
   "base_numbering": 1,
   "nav_menu": {},
   "number_sections": true,
   "sideBar": true,
   "skip_h1_title": false,
   "title_cell": "Table of Contents",
   "title_sidebar": "Contents",
   "toc_cell": false,
   "toc_position": {},
   "toc_section_display": true,
   "toc_window_display": false
  }
 },
 "nbformat": 4,
 "nbformat_minor": 4
}
