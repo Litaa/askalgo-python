{
 "cells": [
  {
   "cell_type": "code",
   "execution_count": 2,
   "metadata": {
    "cell_style": "center",
    "hide_input": true
   },
   "outputs": [],
   "source": [
    "import pandas as pd"
   ]
  },
  {
   "cell_type": "markdown",
   "metadata": {},
   "source": [
    "# Python for Data Analysts"
   ]
  },
  {
   "cell_type": "markdown",
   "metadata": {},
   "source": [
    "## Python Tools dan Environment"
   ]
  },
  {
   "cell_type": "markdown",
   "metadata": {},
   "source": [
    "### Apa perbedaan dari Anaconda dan Miniconda?\n",
    "Anaconda adalah \"python distributor\" yang menyediakan interpreter dari bahasa pemrograman python, conda sebagai package dan environment manager, dan lebih dari 100++ packages dalam satu paket pre-install untuk kebutuhan komputasi ilmiah atau analisis. Karena ukuran bundel atau paket distribusi ini, penginstallan Anaconda sendiri akan menghabiskan beberapa gigabyte ruang disk. Sedangkan Miniconda adalah versi mini dari Anaconda yang terdiri dari bahsa pemrograman python, conda, dan jumlah package yang lebih kecil sehingga jika Anda memiliki masalah pada ruang penyimpanan maka Anda dapat menginstall Miniconda dibandingkan dengan Anaconda."
   ]
  },
  {
   "cell_type": "markdown",
   "metadata": {},
   "source": [
    "### Apa perbedaan perintah 'conda' dan 'pip'?\n",
    "`conda` adalah suatu package manager untuk install package dimana package yang terinstall adalah versi package yang sudah stabil. Package yang teregistrasi ada di conda biasanya tidak hanya untuk bahasa pemrogaman python. `pip` adalah package manager untuk install package untuk bahasa pemrograman python. Mana yang akan kita gunakan untuk diinstall? Anda dapat menginstall library menggunakan keduanya atau memilih salah satu di antara mereka. Selain itu, Anda bisa mengecek kembali pada dokumentasi package yang akan diinstall apakah sudah teregistrasi di conda atau pip juga."
   ]
  },
  {
   "cell_type": "markdown",
   "metadata": {},
   "source": [
    "### Apakah ada ketentuan khusus untuk menempatkan file python dalam satu file dengan python/anaconda?\n",
    "Tidak ada ketentuan dalam menempatkan file python secara khusus. File python dapat disimpan dimana saja, akan tetapi disarankan untuk mneyimpannya satu folder sesuai project agar ketika nantinya ingin mengakses file lain yang berhubungan dapat dengan mudah mengakses working directorynya."
   ]
  },
  {
   "cell_type": "markdown",
   "metadata": {},
   "source": [
    "### Untuk ‘conda list’, jika dalam environment tersebut terdapat banyak package, apakah memungkinkan untuk menggunakan wildcard (contoh : conda list panda*)?\n",
    "Tidak. Pemanggilan perintah conda di terminal/console tidak bisa dikombinasikan dengan wildcard dan harus dilihat satu persatu package yang ada di dalam sebuah environment tersebut."
   ]
  },
  {
   "cell_type": "markdown",
   "metadata": {},
   "source": [
    "### Saat mengubah kernel, mengapa pilihan kernelnya hanya ada Python 3 saja?\n",
    "Jika pilihan kernel yang tampil hanya tersedia Python 3 saja, kemungkinan Anda belum mebuat kernel baru. Anda dapat membuat dan mendaftarkan dulu kernel baru untuk nantinya digunakan bersama environment python. Berikut ini cara yang bisa Anda lakukan untuk membuat sebuah kernel baru pada sebuah environment:\n",
    "\n",
    "- Langkah pertama Anda harus menginstall ipykernel pada environment yang telah Anda buat sebelumnya\n",
    "```\n",
    "conda install ipykernel\n",
    "```\n",
    "- Selanjutnya Anda dapat mendaftarkan kernel tersebut pada environment yang telah Anda buat sebelumnya\n",
    "```\n",
    "python -m ipykernel install --user --name myenv\n",
    "```"
   ]
  },
  {
   "cell_type": "markdown",
   "metadata": {},
   "source": [
    "### Saat pertama kali membuka file .ipynb, mengapa ada pilihan \"Continue without kernel\"?\n",
    "Saat pertama kali membuka file .ipynb Anda dapat memilih kernal mana yang akan dipakai. Ketika muncul kotak dialog yang memberitahu Anda bahwa kernel tidak ditemukan (bisa jadi ini kernel bawaan dari file .ipynb sebelumnya dibuat) Anda dapat memilih pilihan \"Continue without kernel\". Jika Anda memilih opsi ini maka secara default akan digunakan kernel base."
   ]
  },
  {
   "cell_type": "markdown",
   "metadata": {},
   "source": [
    "### Apa perbedaan ketika saya membuka Jupyter Notebook melalui Anaconda Prompt, Command Prompt dan Jupyter Notebook sendiri?\n",
    "Baik Anaconda Prompt atau Command Prompt sama saja, keduanya bisa digunakan untuk membuka Jupyter Notebook dan Anda dibebaskan untuk mengaktifkan environment mana yang akan digunakan. Bedanya adalah jika di Anaconda prompt Anda akan langsung diberitahu di awal saat pertama kali membuka prompt Anda berada di environment base, sedangkan pada Command Prompt tidak memberikan informasi ini di awal. Sedangkan jika Anda membuka Jupyter Notebook melalui icon Jupyter Notebook maka secraa otomatis Anda akan membukanya menggunakan environment base dan Anda tidak bisa mengganti dengan environment lain. "
   ]
  },
  {
   "cell_type": "markdown",
   "metadata": {},
   "source": [
    "### Apakah bisa membuka 2 Anaconda prompt bersamaan ketika yang satu sedang digunakan untuk membuka Jupyter Notebook?\n",
    "Bisa. Anda dapat membuka lebih dari satu Anaconda Prompot untuk melakukan aktivitas yang berbeda-beda."
   ]
  },
  {
   "cell_type": "markdown",
   "metadata": {},
   "source": [
    "### Bagaimana cara untuk tahu bahwa sebuah package bisa cocok dengan versi python?\n",
    "Tidak semua package/librray pada python cocok untuk semua versi python. Ketika kita melakukan instalasi package pada versi python yang tidak cocok, secara default python akan memberikan pesan error bahwa package(dengan versi tertentu) tidak bisa diinstall pada versi python tertentu. Untuk memastikannya, Anda bisa membuka dokumentasi package tersebut agar package yang terinstall bisa cocok dengan versi pythonnya."
   ]
  },
  {
   "cell_type": "markdown",
   "metadata": {},
   "source": [
    "### Apakah environment harus dibuat berbeda-beda untuk setiap project?\n",
    "Pada umumnya pembuatan environment disesuaikan dengan pengerjaan suatu project. Secara best practice, setiap environment memang hanya didedikasikan untuk satu project. Akan tetapi, Anda masih bisa menggunakan environment yang secara general sama struktur dan penggunaannya ketika akan mengerjakan project baru. Anda hanya perlu memisahkan project yang bau tersebut dengan project yang lama."
   ]
  },
  {
   "cell_type": "markdown",
   "metadata": {},
   "source": [
    "### Selain import library, apakah kita juga harus menjalankan semua kode lagi setiap membuka file .ipynb?\n",
    "Benar. Saat membuka file .ipynb Anda harus menjalankan kembali kode penting seperti mengimport library, memanggil variabel, dan sejenisnya. Cara cepat yang bisa Anda lakukan untuk menjalankan semua code adalah dengan pilihan \"Run cell above\" atau \"Run cell below\" pada Jupyter Notebook. Akan tetapi, cara ini harus ditinjau kembali karena proses running akan berhenti ketika menemukan sebuah cell yang gagal dieksekusi atau error."
   ]
  },
  {
   "cell_type": "markdown",
   "metadata": {},
   "source": [
    "### Apa yang harus saya lakukan jika menemui error [Errno 13] Permission denied: '/usr/local/share/jupyter' saat akan memanggil Jupyter Notebook? \n",
    "Error ini merupakan error yang muncul terkait perizinan akses user untuk memanggil, melakukan penginstallan packages, atau konfigurasi lainnya.  \n",
    "- Jika Anda pengguna Windows OS maka cara yang dapat Anda lakukan adalah menjalankan Anaconda Promtp sebagai administrator (Run as Admininstrator) atau Anda dapat menginstall kembali jupyter notebook denganmenambahkan perintah `--user` pada command yang Anda tulis di prompt. \n",
    "```\n",
    "pip install notebook --user\n",
    "```\n",
    "- Jika Anda pengguna Linux atau MAC OS, Anda dapat menambahkan perintah sudp pada konfigurasi path jupyter terlebih dahulu.\n",
    "```\n",
    "sudo chown -R username:username <path>\n",
    "```"
   ]
  },
  {
   "cell_type": "markdown",
   "metadata": {},
   "source": [
    "### Bagaimana cara untuk melakukan export dataframe ke file csv?\n",
    "\n",
    "Kita dapat dengan mudah melakukan export data menggunakan method .to_csv( ) seperti cara di bawah ini:\n",
    "\n",
    "```\n",
    "nama_object.to_csv(“/path/nama_file.csv”)\n",
    "```"
   ]
  },
  {
   "cell_type": "markdown",
   "metadata": {},
   "source": [
    "## Working with Dataframe"
   ]
  },
  {
   "cell_type": "markdown",
   "metadata": {},
   "source": [
    "### Kapan saya harus menggunakan tanda kurung biasa ( ) dan tanda kurung kotak [ ]?\n",
    "Tanda kurung biasa ( ) pada umunya digunakan setelah pemanggilan method atau fungsi seperti saat Anda memanggil method tail( ), head( ), describe( ), atau saat pemanggilan fungsi seperti print( ). Sedangkan tanda kurung kotak [ ] umumnya digunakan untuk pengambilan data dengan metode subsetting atau indexing seperti ketika Anda menggunakan metode .loc[ ], .iloc[ ], dan sejenisnya."
   ]
  },
  {
   "cell_type": "markdown",
   "metadata": {},
   "source": [
    "### Apa arti tanda bintang [*] pada sisi kiri cell di Jupyter Notebook?\n",
    "\n",
    "<img src=\"assets/running_cell.PNG\" width=500>\n",
    "\n",
    "Tanda bintang tersebut menandakan bahwa cell sedang running. Jika cell tersebut merupakan cell code maka setelah selsai running tanda bintang tersebut akan berganti dengan sebuah angka yang menunjukkan urutan proses running cell."
   ]
  },
  {
   "cell_type": "markdown",
   "metadata": {},
   "source": [
    "### Mengapa jika kita menggunakan method select_dtypes() dan memasukkan nilai integer(int) pada parameter include maka kolom dengan tipe data int64 tidak keluar. Sedangkan jika menggunakan nilai float, maka kolom dengan tipe data float64 ikut terpilih?\n",
    "Secara umum float tidak perlu dituliskan bit nilainya sedangkan int perlu dituliskan nilai bitnya."
   ]
  },
  {
   "cell_type": "markdown",
   "metadata": {},
   "source": [
    "### Apa perbedaan menuliskan nama kolom menggunakan tanda bracket df[\"nama_kolom\" ] dengan pemisah titik seperti df.nama_kolom?\n",
    "Keduanya bisa digunakan untuk memanggil sebuah kolom. Berikut kelebihan dan kekurangan dari kedua metode pemanggilan kolom tersebut:\n",
    "\n",
    "**Kelebihan**\n",
    "- Pemanggilan menggunakan tanda titik lebih cepat\n",
    "- Pemanggilan menggunakan tanda bracket bisa memanggil kolom lebih dari 1 kolom\n",
    "- Pemanggilan menggunakan tanda bracket disarankan untuk nama kolom yang namanya dipisahkan oleh spasi seperti \"jenis kelamin\", \"nama depan\", dll\n",
    "\n",
    "**Kekurangan**\n",
    "- Pemanggilan menggunakan tanda bracket membutuhkan ketelitian, misalnya harus cek untuk memastikan nama kolom sudah diapit lengkap dengan tanda petik.\n",
    "- Pemanggilan menggunakan tanda titik tidak bisa dilakukan untuk nama kolom yang namanya dipisahkan oleh spasi\n"
   ]
  },
  {
   "cell_type": "markdown",
   "metadata": {},
   "source": [
    "### Apa perbedaan menggunakan tanda petik tunggal ('string') dan ganda (\"string\") pada penulisan character atau string?\n",
    "Penggunaan tanda petik tunggal maupun ganda sama-sama untuk menunjukkan string. Umumnya tanda petik tunggal digunakan untuk menuliskan suatu karakter tunggal seperti 'a', 'b', '!', dan sejenisnya. Sedangkan tanda petik ganda digunakan untuk menuliskan kata atau kalimat seperti \"Algoritma\", \"Algoritma Data Science School\", dan sebagainya.\n"
   ]
  },
  {
   "cell_type": "code",
   "execution_count": 11,
   "metadata": {},
   "outputs": [
    {
     "name": "stdout",
     "output_type": "stream",
     "text": [
      "['a', 'b', 'c']\n",
      "['Algoritma', 'Data', 'Indonesia']\n"
     ]
    }
   ],
   "source": [
    "abjad = ['a','b','c']\n",
    "kata = [\"Algoritma\", \"Data\", \"Indonesia\"]\n",
    "print(abjad)\n",
    "print(kata)"
   ]
  },
  {
   "cell_type": "markdown",
   "metadata": {},
   "source": [
    "### Bagaimana jika kita ingin menampilkan tanda petik dalam string?\n",
    "Terdapat 2 cara yang bisa Anda lakukan untuk menuliskan tanda petik dalam sebuah string.\n",
    "- Pertama, Anda dapat menggunakan karakter back slash (\\\\) sebelum tanda kutip (baik petik tunggal atau ganda) seperti contoh di bawah ini:"
   ]
  },
  {
   "cell_type": "code",
   "execution_count": 8,
   "metadata": {},
   "outputs": [
    {
     "name": "stdout",
     "output_type": "stream",
     "text": [
      "Mereka berkata: 'Algoritma luar biasa!'\n"
     ]
    }
   ],
   "source": [
    "print('Mereka berkata: \\'Algoritma luar biasa!\\'')"
   ]
  },
  {
   "cell_type": "code",
   "execution_count": 9,
   "metadata": {
    "scrolled": true
   },
   "outputs": [
    {
     "name": "stdout",
     "output_type": "stream",
     "text": [
      "Mereka berkata: \"Algoritma luar biasa!\"\n"
     ]
    }
   ],
   "source": [
    "print(\"Mereka berkata: \\\"Algoritma luar biasa!\\\"\")"
   ]
  },
  {
   "cell_type": "markdown",
   "metadata": {},
   "source": [
    "- Kedua, Anda dapat mengkombinasikan petik tunggal dan ganda untuk mengapit sebuah kalimat atau string yang mengandung tanda kutip seperti contoh di bawah ini:"
   ]
  },
  {
   "cell_type": "code",
   "execution_count": 6,
   "metadata": {},
   "outputs": [
    {
     "name": "stdout",
     "output_type": "stream",
     "text": [
      "Mereka berkata: 'Algoritma luar biasa!'\n"
     ]
    }
   ],
   "source": [
    "print(\"Mereka berkata: 'Algoritma luar biasa!\\'\")"
   ]
  },
  {
   "cell_type": "code",
   "execution_count": 7,
   "metadata": {},
   "outputs": [
    {
     "name": "stdout",
     "output_type": "stream",
     "text": [
      "Mereka berkata: \"Algoritma luar biasa!\"\n"
     ]
    }
   ],
   "source": [
    "print('Mereka berkata: \"Algoritma luar biasa!\\\"')"
   ]
  },
  {
   "cell_type": "markdown",
   "metadata": {},
   "source": [
    "### Saat melakukan conditional subsetting, apakah kita bisa menggunakan lebih dari 2 kondisi?\n",
    "Sangat bisa. Anda dapat menggunakan lebih dari 2 kondisi yang dikombinasikan menggunakan operasi & (AND) atau operasi | (OR) untuk melakukan conditional subsetting. Pada conditional subsetting, jumlah kondisi tidak terbatas dan ini tergantung pada kebutuhan analisis Anda."
   ]
  },
  {
   "cell_type": "markdown",
   "metadata": {},
   "source": [
    "### Dalam penggunaan .loc jika kita telah mengatur index saat membaca data pada parameter index_col, apakah nantinya sistem pemanggilan nama index juga akan ikut berubah?\n",
    "Sistem pemanggilan nama index akan ikut berubah. Anda dapat memeperhatikan contoh berikut ini:"
   ]
  },
  {
   "cell_type": "code",
   "execution_count": 4,
   "metadata": {
    "scrolled": true
   },
   "outputs": [
    {
     "data": {
      "text/html": [
       "<div>\n",
       "<style scoped>\n",
       "    .dataframe tbody tr th:only-of-type {\n",
       "        vertical-align: middle;\n",
       "    }\n",
       "\n",
       "    .dataframe tbody tr th {\n",
       "        vertical-align: top;\n",
       "    }\n",
       "\n",
       "    .dataframe thead th {\n",
       "        text-align: right;\n",
       "    }\n",
       "</style>\n",
       "<table border=\"1\" class=\"dataframe\">\n",
       "  <thead>\n",
       "    <tr style=\"text-align: right;\">\n",
       "      <th></th>\n",
       "      <th>ID</th>\n",
       "      <th>Customer Name</th>\n",
       "      <th>Consulting Sales</th>\n",
       "      <th>Software Sales</th>\n",
       "      <th>Forecasted Growth</th>\n",
       "      <th>Returns</th>\n",
       "      <th>Month</th>\n",
       "      <th>Day</th>\n",
       "      <th>Year</th>\n",
       "      <th>Account</th>\n",
       "    </tr>\n",
       "    <tr>\n",
       "      <th>Location</th>\n",
       "      <th></th>\n",
       "      <th></th>\n",
       "      <th></th>\n",
       "      <th></th>\n",
       "      <th></th>\n",
       "      <th></th>\n",
       "      <th></th>\n",
       "      <th></th>\n",
       "      <th></th>\n",
       "      <th></th>\n",
       "    </tr>\n",
       "  </thead>\n",
       "  <tbody>\n",
       "    <tr>\n",
       "      <th>Jakarta</th>\n",
       "      <td>30940</td>\n",
       "      <td>New Media Group</td>\n",
       "      <td>IDR7125000</td>\n",
       "      <td>IDR5500000</td>\n",
       "      <td>30.00%</td>\n",
       "      <td>IDR1,500,000</td>\n",
       "      <td>1</td>\n",
       "      <td>10</td>\n",
       "      <td>2017</td>\n",
       "      <td>Enterprise</td>\n",
       "    </tr>\n",
       "    <tr>\n",
       "      <th>Jakarta</th>\n",
       "      <td>82391</td>\n",
       "      <td>Li and Partners</td>\n",
       "      <td>IDR420000</td>\n",
       "      <td>IDR820000</td>\n",
       "      <td>10.00%</td>\n",
       "      <td>IDR400,000</td>\n",
       "      <td>6</td>\n",
       "      <td>15</td>\n",
       "      <td>2016</td>\n",
       "      <td>Startup</td>\n",
       "    </tr>\n",
       "    <tr>\n",
       "      <th>Jakarta</th>\n",
       "      <td>57531</td>\n",
       "      <td>PT. Algoritma Data Indonesia</td>\n",
       "      <td>IDR850000</td>\n",
       "      <td>IDR395500</td>\n",
       "      <td>4.00%</td>\n",
       "      <td>0</td>\n",
       "      <td>7</td>\n",
       "      <td>17</td>\n",
       "      <td>2017</td>\n",
       "      <td>Startup</td>\n",
       "    </tr>\n",
       "    <tr>\n",
       "      <th>Jakarta</th>\n",
       "      <td>31142</td>\n",
       "      <td>PT. Surya Citra Manajemen</td>\n",
       "      <td>IDR960000</td>\n",
       "      <td>IDR503000</td>\n",
       "      <td>19.00%</td>\n",
       "      <td>0</td>\n",
       "      <td>1</td>\n",
       "      <td>19</td>\n",
       "      <td>2019</td>\n",
       "      <td>Enterprise</td>\n",
       "    </tr>\n",
       "  </tbody>\n",
       "</table>\n",
       "</div>"
      ],
      "text/plain": [
       "             ID                 Customer Name Consulting Sales Software Sales  \\\n",
       "Location                                                                        \n",
       "Jakarta   30940               New Media Group       IDR7125000     IDR5500000   \n",
       "Jakarta   82391               Li and Partners        IDR420000      IDR820000   \n",
       "Jakarta   57531  PT. Algoritma Data Indonesia        IDR850000      IDR395500   \n",
       "Jakarta   31142     PT. Surya Citra Manajemen        IDR960000      IDR503000   \n",
       "\n",
       "         Forecasted Growth       Returns  Month  Day  Year     Account  \n",
       "Location                                                                \n",
       "Jakarta             30.00%  IDR1,500,000      1   10  2017  Enterprise  \n",
       "Jakarta             10.00%    IDR400,000      6   15  2016     Startup  \n",
       "Jakarta              4.00%             0      7   17  2017     Startup  \n",
       "Jakarta             19.00%             0      1   19  2019  Enterprise  "
      ]
     },
     "execution_count": 4,
     "metadata": {},
     "output_type": "execute_result"
    }
   ],
   "source": [
    "companies = pd.read_csv('data_input/companies.csv', index_col = 'Location')\n",
    "companies.loc['Jakarta']"
   ]
  },
  {
   "cell_type": "markdown",
   "metadata": {},
   "source": [
    "Pada contoh di atas, kita mengatur kolom 'Location' sebagai index sehingga nilai di setiap barisnya adalah nama lokasi perusahaan. Ketika menggunakan metode .loc[ ] untuk subsetting, maka pemanggilan nama indexnya pun akan mengikuti nilai dari index dataframe itu sendiri. Dalam contoh di atas kita melakukan sebsetting untuk semua perusahaan yang berlokasi di Jakarta."
   ]
  }
 ],
 "metadata": {
  "kernelspec": {
   "display_name": "Python 3",
   "language": "python",
   "name": "python3"
  },
  "language_info": {
   "codemirror_mode": {
    "name": "ipython",
    "version": 3
   },
   "file_extension": ".py",
   "mimetype": "text/x-python",
   "name": "python",
   "nbconvert_exporter": "python",
   "pygments_lexer": "ipython3",
   "version": "3.7.3"
  },
  "toc": {
   "base_numbering": 1,
   "nav_menu": {},
   "number_sections": true,
   "sideBar": true,
   "skip_h1_title": true,
   "title_cell": "Table of Contents",
   "title_sidebar": "Contents",
   "toc_cell": false,
   "toc_position": {},
   "toc_section_display": true,
   "toc_window_display": false
  },
  "varInspector": {
   "cols": {
    "lenName": 16,
    "lenType": 16,
    "lenVar": 40
   },
   "kernels_config": {
    "python": {
     "delete_cmd_postfix": "",
     "delete_cmd_prefix": "del ",
     "library": "var_list.py",
     "varRefreshCmd": "print(var_dic_list())"
    },
    "r": {
     "delete_cmd_postfix": ") ",
     "delete_cmd_prefix": "rm(",
     "library": "var_list.r",
     "varRefreshCmd": "cat(var_dic_list()) "
    }
   },
   "types_to_exclude": [
    "module",
    "function",
    "builtin_function_or_method",
    "instance",
    "_Feature"
   ],
   "window_display": false
  }
 },
 "nbformat": 4,
 "nbformat_minor": 4
}
